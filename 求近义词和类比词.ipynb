{
 "cells": [
  {
   "cell_type": "markdown",
   "id": "21e4ecd6",
   "metadata": {},
   "source": [
    "# 使用预训练的词向量"
   ]
  },
  {
   "cell_type": "code",
   "execution_count": 1,
   "id": "f251939b",
   "metadata": {},
   "outputs": [
    {
     "data": {
      "text/plain": [
       "dict_keys(['charngram.100d', 'fasttext.en.300d', 'fasttext.simple.300d', 'glove.42B.300d', 'glove.840B.300d', 'glove.twitter.27B.25d', 'glove.twitter.27B.50d', 'glove.twitter.27B.100d', 'glove.twitter.27B.200d', 'glove.6B.50d', 'glove.6B.100d', 'glove.6B.200d', 'glove.6B.300d'])"
      ]
     },
     "execution_count": 1,
     "metadata": {},
     "output_type": "execute_result"
    }
   ],
   "source": [
    "import torch\n",
    "import torchtext.vocab as vocab\n",
    "vocab.pretrained_aliases.keys()"
   ]
  },
  {
   "cell_type": "code",
   "execution_count": 2,
   "id": "2d12e3e8",
   "metadata": {},
   "outputs": [
    {
     "data": {
      "text/plain": [
       "['glove.42B.300d',\n",
       " 'glove.840B.300d',\n",
       " 'glove.twitter.27B.25d',\n",
       " 'glove.twitter.27B.50d',\n",
       " 'glove.twitter.27B.100d',\n",
       " 'glove.twitter.27B.200d',\n",
       " 'glove.6B.50d',\n",
       " 'glove.6B.100d',\n",
       " 'glove.6B.200d',\n",
       " 'glove.6B.300d']"
      ]
     },
     "execution_count": 2,
     "metadata": {},
     "output_type": "execute_result"
    }
   ],
   "source": [
    "[key for key in vocab.pretrained_aliases.keys() if 'glove' in key]"
   ]
  },
  {
   "cell_type": "code",
   "execution_count": 3,
   "id": "ba5c1eab",
   "metadata": {},
   "outputs": [
    {
     "name": "stderr",
     "output_type": "stream",
     "text": [
      "./Datasets/glove\\glove.6B.zip: 862MB [06:33, 2.19MB/s]                                                                 \n",
      "100%|██████████████████████████████████████████████████████████████████████▉| 399999/400000 [00:23<00:00, 17390.28it/s]\n"
     ]
    }
   ],
   "source": [
    "cache_dir='./Datasets/glove'\n",
    "glove=vocab.GloVe(name='6B',dim=50,cache=cache_dir)"
   ]
  },
  {
   "cell_type": "code",
   "execution_count": 4,
   "id": "00accb01",
   "metadata": {},
   "outputs": [
    {
     "name": "stdout",
     "output_type": "stream",
     "text": [
      "一共包含400000个词\n"
     ]
    }
   ],
   "source": [
    "print('一共包含%d个词'%(len(glove.stoi)))"
   ]
  },
  {
   "cell_type": "code",
   "execution_count": 5,
   "id": "ea82fa72",
   "metadata": {},
   "outputs": [
    {
     "data": {
      "text/plain": [
       "(3366, 'beautiful')"
      ]
     },
     "execution_count": 5,
     "metadata": {},
     "output_type": "execute_result"
    }
   ],
   "source": [
    "glove.stoi['beautiful'],glove.itos[3366]"
   ]
  },
  {
   "cell_type": "markdown",
   "id": "649de97b",
   "metadata": {},
   "source": [
    "# 应用预训练词向量"
   ]
  },
  {
   "cell_type": "markdown",
   "id": "f5759845",
   "metadata": {},
   "source": [
    "## 求近义词"
   ]
  },
  {
   "cell_type": "code",
   "execution_count": 7,
   "id": "b3b6f0f7",
   "metadata": {},
   "outputs": [],
   "source": [
    "def knn(W,x,k):\n",
    "    cos=torch.matmul(W,x.view((-1,)))/((torch.sum(W*W,dim=1)+1e-9).sqrt()*torch.sum(x*x).sqrt())\n",
    "    _,topk=torch.topk(cos,k=k)\n",
    "    topk=topk.cpu().numpy()\n",
    "    return topk,[cos[i].item() for i in topk]"
   ]
  },
  {
   "cell_type": "code",
   "execution_count": 8,
   "id": "b919f74a",
   "metadata": {},
   "outputs": [],
   "source": [
    "def get_similar_tokens(query_token,k,embed):\n",
    "    topk,cos=knn(embed.vectors,embed.vectors[embed.stoi[query_token]],k+1)\n",
    "    for i,c in zip(topk[1:],cos[1:]):\n",
    "        print('cosine sim=%.3f:%s'%(c,(embed.itos[i])))"
   ]
  },
  {
   "cell_type": "code",
   "execution_count": 9,
   "id": "ba2c7a2c",
   "metadata": {
    "scrolled": true
   },
   "outputs": [
    {
     "name": "stdout",
     "output_type": "stream",
     "text": [
      "cosine sim=0.856:chips\n",
      "cosine sim=0.749:intel\n",
      "cosine sim=0.749:electronics\n"
     ]
    }
   ],
   "source": [
    "get_similar_tokens('chip',3,glove)"
   ]
  },
  {
   "cell_type": "code",
   "execution_count": 10,
   "id": "57016506",
   "metadata": {
    "scrolled": true
   },
   "outputs": [
    {
     "name": "stdout",
     "output_type": "stream",
     "text": [
      "cosine sim=0.839:babies\n",
      "cosine sim=0.800:boy\n",
      "cosine sim=0.792:girl\n"
     ]
    }
   ],
   "source": [
    "get_similar_tokens('baby',3,glove)"
   ]
  },
  {
   "cell_type": "code",
   "execution_count": 11,
   "id": "9a43073d",
   "metadata": {
    "scrolled": true
   },
   "outputs": [
    {
     "name": "stdout",
     "output_type": "stream",
     "text": [
      "cosine sim=0.921:lovely\n",
      "cosine sim=0.893:gorgeous\n",
      "cosine sim=0.830:wonderful\n"
     ]
    }
   ],
   "source": [
    "get_similar_tokens('beautiful',3,glove)"
   ]
  },
  {
   "cell_type": "markdown",
   "id": "d471915c",
   "metadata": {},
   "source": [
    "## 求类比词"
   ]
  },
  {
   "cell_type": "code",
   "execution_count": 12,
   "id": "6339db72",
   "metadata": {},
   "outputs": [],
   "source": [
    "def get_analogy(token_a,token_b,token_c,embed):\n",
    "    vecs=[embed.vectors[embed.stoi[t]] for t in [token_a,token_b,token_c]]\n",
    "    x=vecs[1]-vecs[0]+vecs[2]\n",
    "    topk,cos=knn(embed.vectors,x,1)\n",
    "    return embed.itos[topk[0]]"
   ]
  },
  {
   "cell_type": "code",
   "execution_count": 13,
   "id": "7ee1a404",
   "metadata": {},
   "outputs": [
    {
     "data": {
      "text/plain": [
       "'daughter'"
      ]
     },
     "execution_count": 13,
     "metadata": {},
     "output_type": "execute_result"
    }
   ],
   "source": [
    "get_analogy('man','woman','son',glove)"
   ]
  },
  {
   "cell_type": "code",
   "execution_count": 14,
   "id": "cccc159d",
   "metadata": {},
   "outputs": [
    {
     "data": {
      "text/plain": [
       "'japan'"
      ]
     },
     "execution_count": 14,
     "metadata": {},
     "output_type": "execute_result"
    }
   ],
   "source": [
    "get_analogy('beijing','china','tokyo',glove)"
   ]
  },
  {
   "cell_type": "code",
   "execution_count": 15,
   "id": "d952d419",
   "metadata": {},
   "outputs": [
    {
     "data": {
      "text/plain": [
       "'biggest'"
      ]
     },
     "execution_count": 15,
     "metadata": {},
     "output_type": "execute_result"
    }
   ],
   "source": [
    "get_analogy('bad','worst','big',glove)"
   ]
  },
  {
   "cell_type": "code",
   "execution_count": 16,
   "id": "414e4038",
   "metadata": {},
   "outputs": [
    {
     "data": {
      "text/plain": [
       "'went'"
      ]
     },
     "execution_count": 16,
     "metadata": {},
     "output_type": "execute_result"
    }
   ],
   "source": [
    "get_analogy('do','did','go',glove)"
   ]
  }
 ],
 "metadata": {
  "kernelspec": {
   "display_name": "Python 3",
   "language": "python",
   "name": "python3"
  },
  "language_info": {
   "codemirror_mode": {
    "name": "ipython",
    "version": 3
   },
   "file_extension": ".py",
   "mimetype": "text/x-python",
   "name": "python",
   "nbconvert_exporter": "python",
   "pygments_lexer": "ipython3",
   "version": "3.8.7"
  }
 },
 "nbformat": 4,
 "nbformat_minor": 5
}
