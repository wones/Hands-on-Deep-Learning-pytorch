{
 "cells": [
  {
   "cell_type": "code",
   "execution_count": 33,
   "id": "c4c141ae",
   "metadata": {},
   "outputs": [],
   "source": [
    "import time\n",
    "import math\n",
    "import numpy as np\n",
    "import torch\n",
    "from torch import nn,optim\n",
    "import torch.nn.functional as F\n",
    "import sys\n",
    "device=torch.device('cuda' if torch.cuda.is_available() else 'cpu')"
   ]
  },
  {
   "cell_type": "markdown",
   "id": "f3ec4ad8",
   "metadata": {},
   "source": [
    "# 获取数据"
   ]
  },
  {
   "cell_type": "code",
   "execution_count": 34,
   "id": "2be48c91",
   "metadata": {},
   "outputs": [],
   "source": [
    "import zipfile\n",
    "with zipfile.ZipFile('./Datasets/jaychou_lyrics.txt.zip') as zin:\n",
    "    with zin.open('jaychou_lyrics.txt') as f:\n",
    "        corpus_chars=f.read().decode('utf-8')\n",
    "corpus_chars=corpus_chars.replace('\\n',' ').replace('\\r',' ')\n",
    "corpus_chars=corpus_chars[0:10000]\n",
    "idx_to_char=list(set(corpus_chars))\n",
    "char_to_idx=dict([(char,i) for i,char in enumerate(idx_to_char)])\n",
    "vocab_size=len(char_to_idx)\n",
    "corpus_indices=[char_to_idx[char] for char in corpus_chars]"
   ]
  },
  {
   "cell_type": "markdown",
   "id": "3b950712",
   "metadata": {},
   "source": [
    "# 定义模型"
   ]
  },
  {
   "cell_type": "code",
   "execution_count": 35,
   "id": "f45bd029",
   "metadata": {},
   "outputs": [],
   "source": [
    "def one_hot(x,n_class,dtype=torch.float32):\n",
    "    # X shape: (batch), output shape: (batch, n_class)\n",
    "    x=x.long()\n",
    "    res=torch.zeros(x.shape[0],n_class,dtype=dtype,device=x.device)\n",
    "    res.scatter_(1,x.view(-1,1),1)\n",
    "    return res\n",
    "def to_onehot(X,n_class):\n",
    "    # X shape: (batch, seq_len), output: seq_len elements of (batch,n_class)\n",
    "    return [one_hot(X[:,i],n_class) for i in range(X.shape[1])]"
   ]
  },
  {
   "cell_type": "code",
   "execution_count": 36,
   "id": "2864aa97",
   "metadata": {},
   "outputs": [],
   "source": [
    "num_hiddens=256\n",
    "rnn_layer=nn.RNN(input_size=vocab_size,hidden_size=num_hiddens)"
   ]
  },
  {
   "cell_type": "code",
   "execution_count": 37,
   "id": "18661e9f",
   "metadata": {},
   "outputs": [
    {
     "name": "stdout",
     "output_type": "stream",
     "text": [
      "torch.Size([35, 2, 256]) 1 torch.Size([2, 256])\n"
     ]
    }
   ],
   "source": [
    "num_steps=35\n",
    "batch_size=2\n",
    "state=None\n",
    "X=torch.rand(num_steps,batch_size,vocab_size)\n",
    "Y,state_new=rnn_layer(X,state)\n",
    "print(Y.shape,len(state_new),state_new[0].shape)"
   ]
  },
  {
   "cell_type": "code",
   "execution_count": 38,
   "id": "9ee11e28",
   "metadata": {},
   "outputs": [],
   "source": [
    "class RNNModel(nn.Module):\n",
    "    def __init__(self,rnn_layer,vocab_size):\n",
    "        super(RNNModel,self).__init__()\n",
    "        self.rnn=rnn_layer\n",
    "        self.hidden_size=rnn_layer.hidden_size*(2 if rnn_layer.bidirectional else 1)\n",
    "        self.vocab_size=vocab_size\n",
    "        self.dense=nn.Linear(self.hidden_size,vocab_size)\n",
    "        self.state=None\n",
    "    def forward(self,inputs,state):\n",
    "        #inputs: (batch, seq_len)\n",
    "        X=to_onehot(inputs,self.vocab_size)\n",
    "        Y,self.state=self.rnn(torch.stack(X),state)\n",
    "        output=self.dense(Y.view(-1,Y.shape[-1]))\n",
    "        return output,self.state\n",
    "        "
   ]
  },
  {
   "cell_type": "markdown",
   "id": "6fe79ecd",
   "metadata": {},
   "source": [
    "# 训练模型"
   ]
  },
  {
   "cell_type": "code",
   "execution_count": 39,
   "id": "2ff032d3",
   "metadata": {},
   "outputs": [],
   "source": [
    "def predict_rnn_pytorch(prefix,num_chars,model,vocab_size,device,idx_to_char,char_to_idx):\n",
    "    state=None\n",
    "    output=[char_to_idx[prefix[0]]]\n",
    "    for t in range(num_chars+len(prefix)-1):\n",
    "        X=torch.tensor([output[-1]],device=device).view(1,1)\n",
    "        if state is not None:\n",
    "            if isinstance(state,tuple):\n",
    "                state=(state[0].to(device),state[1].to(device))\n",
    "            else:\n",
    "                state=state.to(device)\n",
    "        (Y,state)=model(X,state)\n",
    "        if t<len(prefix)-1:\n",
    "            output.append(char_to_idx[prefix[t+1]])\n",
    "        else:\n",
    "            output.append(int(Y.argmax(dim=1).item()))\n",
    "    return ''.join([idx_to_char[i] for i in output])"
   ]
  },
  {
   "cell_type": "code",
   "execution_count": 40,
   "id": "55fdb702",
   "metadata": {},
   "outputs": [
    {
     "data": {
      "text/plain": [
       "'你好榜仪榜榜仪术榜榜仪术'"
      ]
     },
     "execution_count": 40,
     "metadata": {},
     "output_type": "execute_result"
    }
   ],
   "source": [
    "model=RNNModel(rnn_layer,vocab_size).to(device)\n",
    "predict_rnn_pytorch('你好',10,model,vocab_size,device,idx_to_char,char_to_idx)"
   ]
  },
  {
   "cell_type": "code",
   "execution_count": 41,
   "id": "5568a2a2",
   "metadata": {},
   "outputs": [],
   "source": [
    "def data_iter_consecutive(corpus_indices,batch_size,num_steps,device=None):\n",
    "    if device is None:\n",
    "        device=torch.device('cuda' if torch.cuda.is_available() else 'cpu')\n",
    "    corpus_indices=torch.tensor(corpus_indices,dtype=torch.float32,device=device)\n",
    "    data_len=len(corpus_indices)\n",
    "    batch_len=data_len//batch_size\n",
    "    indices=corpus_indices[0:batch_size*batch_len].view(batch_size,batch_len)\n",
    "    epoch_size=(batch_len-1)//num_steps\n",
    "    for i in range(epoch_size):\n",
    "        i=i*num_steps\n",
    "        X=indices[:,i:i+num_steps]\n",
    "        Y=indices[:,i+1:i+num_steps+1]\n",
    "        yield X,Y"
   ]
  },
  {
   "cell_type": "code",
   "execution_count": 42,
   "id": "db90fc47",
   "metadata": {},
   "outputs": [],
   "source": [
    "def grad_clipping(params,theta,device):\n",
    "    norm=torch.tensor([0.0],device=device)\n",
    "    for param in params:\n",
    "        norm+=(param.grad.data**2).sum()\n",
    "    norm=norm.sqrt().item()\n",
    "    if norm>theta:\n",
    "        for param in params:\n",
    "            param.grad.data*=(theta/norm)"
   ]
  },
  {
   "cell_type": "code",
   "execution_count": 43,
   "id": "f9a5e105",
   "metadata": {},
   "outputs": [],
   "source": [
    "def train_and_predict_rnn_pytorch(model,num_hiddens,vocab_size,device,corpus_indices,idx_to_char,char_to_idx,num_epochs,num_steps,lr,clipping_theta,batch_size,pred_period,pred_len,prefixes):\n",
    "    loss=nn.CrossEntropyLoss()\n",
    "    optimizer=torch.optim.Adam(model.parameters(),lr=lr)\n",
    "    model.to(device)\n",
    "    state=None\n",
    "    for epoch in range(num_epochs):\n",
    "        l_sum,n,start=0.0,0,time.time()\n",
    "        data_iter=data_iter_consecutive(corpus_indices,batch_size,num_steps,device)\n",
    "        for X,Y in data_iter:\n",
    "            if state is not None:\n",
    "                if isinstance(state,tuple):# LSTM, state:(h, c)\n",
    "                    state=(state[0].detach(),state[1].detach())\n",
    "                else:\n",
    "                    state=state.detach()\n",
    "            (output,state)=model(X,state)\n",
    "            y=torch.transpose(Y,0,1).contiguous().view(-1)\n",
    "            l=loss(output,y.long())\n",
    "            optimizer.zero_grad()\n",
    "            l.backward()\n",
    "            grad_clipping(model.parameters(),clipping_theta,device)\n",
    "            optimizer.step()\n",
    "            l_sum+=l.item()*y.shape[0]\n",
    "            n+=y.shape[0]\n",
    "        try:\n",
    "            perplexity=math.exp(l_sum/n)\n",
    "        except OverflowError:\n",
    "            perplexity=float('inf')\n",
    "        if (epoch+1)%pred_period==0:\n",
    "            print('epoch %d,perplexity %f,time %.2f sec '%(epoch+1,perplexity,time.time()-start))\n",
    "            for prefixe in prefixes:\n",
    "                print(' -',predict_rnn_pytorch(prefixe,pred_len,model,vocab_size,device,idx_to_char,char_to_idx))"
   ]
  },
  {
   "cell_type": "code",
   "execution_count": 44,
   "id": "4992a160",
   "metadata": {},
   "outputs": [],
   "source": [
    "num_epochs,batch_size,lr,clipping_theta=250,32,1e-3,1e-2\n",
    "pred_period,pred_len,prefixes=50,50,['你好','不好']"
   ]
  },
  {
   "cell_type": "code",
   "execution_count": 45,
   "id": "06607a25",
   "metadata": {},
   "outputs": [
    {
     "name": "stdout",
     "output_type": "stream",
     "text": [
      "epoch 50,perplexity 9.966159,time 0.18 sec \n",
      " - 你好多   你不多 离 我不能再想 我不要再想 我想 我不能再想 我不能再想 我不能再想 我不能再想 我\n",
      " - 不好 我 我有多烦恼  想要你这样打我  不要再这样牵着你的可爱女人 坏坏的让我疯狂的可爱女人 坏坏的让\n",
      "epoch 100,perplexity 1.296433,time 0.17 sec \n",
      " - 你好多  你的回忆 找不着 不  不要再这样打我妈妈 我说你爸 你是我妈妈你 种爸你 爸我妈手 不要再 \n",
      " - 不好 你 我不了这节奏 后知后觉 又过了一个秋 后知后觉 我该好好生活 我该好好生活 不知不觉 你已经离\n",
      "epoch 150,perplexity 1.067609,time 0.18 sec \n",
      " - 你好多球 想 你说的黑我笑能想要你  不是 不想开你看着我不起 说有话双截棍 哼哼哈兮 习武之人切记 仁\n",
      " - 不好 你 我不了口不能痛吗 就是你 家你一样看着日的 一直到我 你这样我我想知不觉 你已经离开我 不知不\n",
      "epoch 200,perplexity 1.052536,time 0.17 sec \n",
      " - 你好多你 想 你说的爱 有多难熬  没有你在我有多难熬多烦恼  没有你烦 我有多烦恼  没有你烦我有多烦\n",
      " - 不好 你 我不了口不能痛吗 我不了 爱你在这样对简活 我想你 说你怎么面对我 甩开球我满腔的怒火 我想揍\n",
      "epoch 250,perplexity 1.021723,time 0.18 sec \n",
      " - 你好多 我想你 说你开始 打我妈 你说我 有不再痛  一切中轻轻  色作  后是一只都有轻的叹息  后悔\n",
      " - 不好 你 我不了口不作痛  我不要 你你 我不会痛不 我不多难熬  我将可以 从 有话去对医药箱说 别怪\n"
     ]
    }
   ],
   "source": [
    "train_and_predict_rnn_pytorch(model,num_hiddens,vocab_size,device,corpus_indices,idx_to_char,char_to_idx,num_epochs,num_steps,lr,clipping_theta,batch_size,pred_period,pred_len,prefixes)"
   ]
  }
 ],
 "metadata": {
  "kernelspec": {
   "display_name": "Python 3",
   "language": "python",
   "name": "python3"
  },
  "language_info": {
   "codemirror_mode": {
    "name": "ipython",
    "version": 3
   },
   "file_extension": ".py",
   "mimetype": "text/x-python",
   "name": "python",
   "nbconvert_exporter": "python",
   "pygments_lexer": "ipython3",
   "version": "3.8.7"
  }
 },
 "nbformat": 4,
 "nbformat_minor": 5
}
