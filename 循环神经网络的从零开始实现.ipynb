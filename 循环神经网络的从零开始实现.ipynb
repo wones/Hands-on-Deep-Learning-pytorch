{
 "cells": [
  {
   "cell_type": "code",
   "execution_count": 1,
   "id": "76144dbb",
   "metadata": {},
   "outputs": [],
   "source": [
    "import time\n",
    "import math\n",
    "import numpy as np\n",
    "import torch\n",
    "import random\n",
    "from torch import nn,optim\n",
    "import torch.nn.functional as F\n",
    "\n",
    "import sys\n",
    "\n",
    "device=torch.device('cuda' if torch.cuda.is_available() else 'cpu')\n"
   ]
  },
  {
   "cell_type": "markdown",
   "id": "5653719c",
   "metadata": {},
   "source": [
    "# 获取数据"
   ]
  },
  {
   "cell_type": "code",
   "execution_count": 2,
   "id": "cf804ac6",
   "metadata": {},
   "outputs": [],
   "source": [
    "import zipfile\n",
    "with zipfile.ZipFile('./Datasets/jaychou_lyrics.txt.zip') as zin:\n",
    "    with zin.open('jaychou_lyrics.txt') as f:\n",
    "        corpus_chars=f.read().decode('utf-8')\n",
    "corpus_chars=corpus_chars.replace('\\n',' ').replace('\\r',' ')\n",
    "corpus_chars=corpus_chars[0:10000]\n",
    "idx_to_char=list(set(corpus_chars))\n",
    "char_to_idx=dict([(char,i) for i,char in enumerate(idx_to_char)])\n",
    "vocab_size=len(char_to_idx)\n",
    "corpus_indices=[char_to_idx[char] for char in corpus_chars]"
   ]
  },
  {
   "cell_type": "markdown",
   "id": "1e97bcb2",
   "metadata": {},
   "source": [
    "# ONEHOT向量"
   ]
  },
  {
   "cell_type": "code",
   "execution_count": 3,
   "id": "d426ccec",
   "metadata": {},
   "outputs": [
    {
     "data": {
      "text/plain": [
       "tensor([[1., 0., 0.,  ..., 0., 0., 0.],\n",
       "        [0., 0., 1.,  ..., 0., 0., 0.]])"
      ]
     },
     "execution_count": 3,
     "metadata": {},
     "output_type": "execute_result"
    }
   ],
   "source": [
    "def one_hot(x,n_class,dtype=torch.float32):\n",
    "    # X shape: (batch), output shape: (batch, n_class)\n",
    "    x=x.long()\n",
    "    res=torch.zeros(x.shape[0],n_class,dtype=dtype,device=x.device)\n",
    "    res.scatter_(1,x.view(-1,1),1)\n",
    "    return res\n",
    "\n",
    "x=torch.tensor([0,2])\n",
    "one_hot(x,vocab_size)"
   ]
  },
  {
   "cell_type": "code",
   "execution_count": 4,
   "id": "52f68039",
   "metadata": {},
   "outputs": [
    {
     "name": "stdout",
     "output_type": "stream",
     "text": [
      "5 torch.Size([2, 1027])\n"
     ]
    }
   ],
   "source": [
    "def to_onehot(X,n_class):\n",
    "    # X shape: (batch, seq_len), output: seq_len elements of (batch,n_class)\n",
    "    return [one_hot(X[:,i],n_class) for i in range(X.shape[1])]\n",
    "X=torch.arange(10).view(2,5)\n",
    "inputs=to_onehot(X,vocab_size)\n",
    "print(len(inputs),inputs[0].shape)"
   ]
  },
  {
   "cell_type": "markdown",
   "id": "f9c4c09a",
   "metadata": {},
   "source": [
    "# 初始化模型参数"
   ]
  },
  {
   "cell_type": "code",
   "execution_count": 5,
   "id": "a22f55dc",
   "metadata": {},
   "outputs": [
    {
     "name": "stdout",
     "output_type": "stream",
     "text": [
      "will use cuda\n"
     ]
    }
   ],
   "source": [
    "num_inputs,num_hiddens,num_outputs=vocab_size,256,vocab_size\n",
    "print('will use',device)\n",
    "def get_params():\n",
    "    def _one(shape):\n",
    "        ts=torch.tensor(np.random.normal(0,0.01,size=shape),device=device,dtype=torch.float32)\n",
    "        return torch.nn.Parameter(ts,requires_grad=True)\n",
    "    #隐藏层参数\n",
    "    W_xh=_one((num_inputs,num_hiddens))\n",
    "    W_hh=_one((num_hiddens,num_hiddens))\n",
    "    b_h=torch.nn.Parameter(torch.zeros(num_hiddens,device=device,requires_grad=True))\n",
    "    #输出层参数\n",
    "    W_hq=_one((num_hiddens,num_outputs))\n",
    "    b_q=torch.nn.Parameter(torch.zeros(num_outputs,device=device,requires_grad=True))\n",
    "    return nn.ParameterList([W_xh,W_hh,b_h,W_hq,b_q])"
   ]
  },
  {
   "cell_type": "markdown",
   "id": "ce45e9cc",
   "metadata": {},
   "source": [
    "# 定义模型"
   ]
  },
  {
   "cell_type": "code",
   "execution_count": 6,
   "id": "77275591",
   "metadata": {},
   "outputs": [],
   "source": [
    "def init_rnn_state(batch_size,num_hiddens,device):\n",
    "    return (torch.zeros((batch_size,num_hiddens),device=device),)"
   ]
  },
  {
   "cell_type": "code",
   "execution_count": 7,
   "id": "d1b61e21",
   "metadata": {},
   "outputs": [],
   "source": [
    "def rnn(inputs,state,params):\n",
    "   # inputs和outputs皆为num_steps个形状为(batch_size, vocab_size)的矩阵\n",
    "    W_xh,W_hh,b_h,W_hq,b_q=params\n",
    "    H,=state\n",
    "    outputs=[]\n",
    "    for X in inputs:\n",
    "        H=torch.tanh(torch.matmul(X,W_xh)+torch.matmul(H,W_hh)+b_h)\n",
    "        Y=torch.matmul(H,W_hq)+b_q\n",
    "        outputs.append(Y)\n",
    "    return outputs,(H,)"
   ]
  },
  {
   "cell_type": "code",
   "execution_count": 8,
   "id": "2aaddf71",
   "metadata": {},
   "outputs": [
    {
     "name": "stdout",
     "output_type": "stream",
     "text": [
      "5 torch.Size([2, 1027]) torch.Size([2, 256])\n"
     ]
    }
   ],
   "source": [
    "state=init_rnn_state(X.shape[0],num_hiddens,device)\n",
    "inputs=to_onehot(X.to(device),vocab_size)\n",
    "params=get_params()\n",
    "outputs,state_new=rnn(inputs,state,params)\n",
    "print(len(outputs),outputs[0].shape,state_new[0].shape)"
   ]
  },
  {
   "cell_type": "markdown",
   "id": "2c6b1fc3",
   "metadata": {},
   "source": [
    "# 定义预测函数"
   ]
  },
  {
   "cell_type": "code",
   "execution_count": 9,
   "id": "aa360a58",
   "metadata": {},
   "outputs": [],
   "source": [
    "def predict_rnn(prefix,num_chars,rnn,params,init_rnn_state,num_hiddens,vocab_size,device,idx_to_char,char_to_idx):\n",
    "    state=init_rnn_state(1,num_hiddens,device)\n",
    "    output=[char_to_idx[prefix[0]]]\n",
    "    for t in range(num_chars+len(prefix)-1):\n",
    "        X=to_onehot(torch.tensor([[output[-1]]],device=device),vocab_size)\n",
    "        (Y,state)=rnn(X,state,params)\n",
    "        if t<len(prefix)-1:\n",
    "            output.append(char_to_idx[prefix[t+1]])\n",
    "        else:\n",
    "            output.append(int(Y[0].argmax(dim=1).item()))\n",
    "    return ''.join([idx_to_char[i] for i in output])"
   ]
  },
  {
   "cell_type": "code",
   "execution_count": 10,
   "id": "afbc5ee2",
   "metadata": {},
   "outputs": [
    {
     "data": {
      "text/plain": [
       "'分开斗死节国黄承屋年铜真'"
      ]
     },
     "execution_count": 10,
     "metadata": {},
     "output_type": "execute_result"
    }
   ],
   "source": [
    "predict_rnn('分开',10,rnn,params,init_rnn_state,num_hiddens,vocab_size,device,idx_to_char,char_to_idx)"
   ]
  },
  {
   "cell_type": "markdown",
   "id": "742e912e",
   "metadata": {},
   "source": [
    "# 裁剪梯度"
   ]
  },
  {
   "cell_type": "code",
   "execution_count": 11,
   "id": "196cc622",
   "metadata": {},
   "outputs": [],
   "source": [
    "def grad_clipping(params,theta,device):\n",
    "    norm=torch.tensor([0.0],device=device)\n",
    "    for param in params:\n",
    "        norm+=(param.grad.data**2).sum()\n",
    "    norm=norm.sqrt().item()\n",
    "    if norm>theta:\n",
    "        for param in params:\n",
    "            param.grad.data*=(theta/norm)"
   ]
  },
  {
   "cell_type": "markdown",
   "id": "4df39766",
   "metadata": {},
   "source": [
    "# 困惑度"
   ]
  },
  {
   "cell_type": "markdown",
   "id": "040494fc",
   "metadata": {},
   "source": [
    "最佳情况下，模型总是把标签类别的概率预测为1，此时困惑度为1；\n",
    "最坏情况下，模型总是把标签类别的概率预测为0，此时困惑度为正⽆穷；\n",
    "基线情况下，模型总是预测所有类别的概率都相同，此时困惑度为类别个数"
   ]
  },
  {
   "cell_type": "markdown",
   "id": "c7ad68ac",
   "metadata": {},
   "source": [
    "# 定义模型训练函数"
   ]
  },
  {
   "cell_type": "code",
   "execution_count": 12,
   "id": "69e088c8",
   "metadata": {},
   "outputs": [],
   "source": [
    "def data_iter_random(corpus_indices,batch_size,num_steps,device=None):\n",
    "    # 减1是因为输出的索引x是相应输⼊的索引y加1\n",
    "    num_examples=(len(corpus_indices)-1)//num_steps\n",
    "    epoch_size=num_examples//batch_size\n",
    "    example_indices=list(range(num_examples))\n",
    "    random.shuffle(example_indices)\n",
    "    \n",
    "    def _data(pos):\n",
    "        return corpus_indices[pos:pos+num_steps]\n",
    "    if device is None:\n",
    "        device=torch.device('cuda' if torch.cuda.is_available() else 'cpu')\n",
    "    for i in range(epoch_size):\n",
    "        i=i*batch_size\n",
    "        batch_indices=example_indices[i:i+batch_size]\n",
    "        X=[_data(j*num_steps) for j in batch_indices]\n",
    "        Y=[_data(j*num_steps+1) for j in batch_indices]\n",
    "        yield torch.tensor(X,dtype=torch.float32,device=device),torch.tensor(Y,dtype=torch.float32,device=device)"
   ]
  },
  {
   "cell_type": "code",
   "execution_count": 13,
   "id": "fafc637f",
   "metadata": {},
   "outputs": [],
   "source": [
    "def data_iter_consecutive(corpus_indices,batch_size,num_steps,device=None):\n",
    "    if device is None:\n",
    "        device=torch.device('cuda' if torch.cuda.is_available() else 'cpu')\n",
    "    corpus_indices=torch.tensor(corpus_indices,dtype=torch.float32,device=device)\n",
    "    data_len=len(corpus_indices)\n",
    "    batch_len=data_len//batch_size\n",
    "    indices=corpus_indices[0:batch_size*batch_len].view(batch_size,batch_len)\n",
    "    epoch_size=(batch_len-1)//num_steps\n",
    "    for i in range(epoch_size):\n",
    "        i=i*num_steps\n",
    "        X=indices[:,i:i+num_steps]\n",
    "        Y=indices[:,i+1:i+num_steps+1]\n",
    "        yield X,Y"
   ]
  },
  {
   "cell_type": "code",
   "execution_count": 14,
   "id": "1ac05c9e",
   "metadata": {},
   "outputs": [],
   "source": [
    "def sgd(params,lr,batch_size):\n",
    "    for param in params:\n",
    "        param.data-=lr*param.grad/batch_size"
   ]
  },
  {
   "cell_type": "code",
   "execution_count": 23,
   "id": "1208dc5c",
   "metadata": {},
   "outputs": [],
   "source": [
    "def train_and_predict_rnn(rnn,get_params,init_rnn_state,num_hiddens,vocab_size,device,corpus_indices,idx_to_char,char_to_idx,is_random_iter,num_epochs,num_steps,lr,clipping_theta,batch_size,pred_period,pred_len,prefixes):\n",
    "    if is_random_iter:\n",
    "        data_iter_fn=data_iter_random\n",
    "    else:\n",
    "        data_iter_fn=data_iter_consecutive\n",
    "    params=get_params()\n",
    "    loss=nn.CrossEntropyLoss()\n",
    "    \n",
    "    for epoch in range(num_epochs):\n",
    "        if not is_random_iter:# 如使⽤相邻采样，在epoch开始时初始化隐藏状态\n",
    "            state=init_rnn_state(batch_size,num_hiddens,device)\n",
    "        l_sum,n,start=0.0,0,time.time()\n",
    "        data_iter=data_iter_fn(corpus_indices,batch_size,num_steps,device)\n",
    "        for X,Y in data_iter:\n",
    "            if is_random_iter:# 如使⽤随机采样，在每个⼩批量更新前初始化隐藏状态\n",
    "                state=init_rnn_state(batch_size,num_hiddens,device)\n",
    "            else:\n",
    "                # 否则需要使⽤detach函数从计算图分离隐藏状态, 这是为了\n",
    "                # 使模型参数的梯度计算只依赖⼀次迭代读取的⼩批量序列(防⽌梯度计算开销太⼤）\n",
    "                for s in state:\n",
    "                    s.detach_()\n",
    "            inputs=to_onehot(X,vocab_size)\n",
    "            (outputs,state)=rnn(inputs,state,params)\n",
    "            outputs=torch.cat(outputs,dim=0)\n",
    "            y=torch.transpose(Y,0,1).contiguous().view(-1)\n",
    "            l=loss(outputs,y.long())\n",
    "            if params[0].grad is not None:\n",
    "                for param in params:\n",
    "                    param.grad.data.zero_()\n",
    "            l.backward()\n",
    "            grad_clipping(params,clipping_theta,device)\n",
    "            sgd(params,lr,1)\n",
    "            l_sum+=l.item()*y.shape[0]\n",
    "            n+=y.shape[0]\n",
    "        if (epoch+1)%pred_period==0:\n",
    "            print('epoch %d,perplexity %f,time %.2f sec'%(epoch+1,math.exp(l_sum/n),time.time()-start))\n",
    "            for prefix in prefixes:\n",
    "                print('-',predict_rnn(prefix,pred_len,rnn,params,init_rnn_state,num_hiddens,vocab_size,device,idx_to_char,char_to_idx))"
   ]
  },
  {
   "cell_type": "markdown",
   "id": "5abdf04a",
   "metadata": {},
   "source": [
    "# 训练模型并创造歌词"
   ]
  },
  {
   "cell_type": "code",
   "execution_count": 24,
   "id": "c2c8bef0",
   "metadata": {},
   "outputs": [],
   "source": [
    "num_epochs,num_steps,batch_size,lr,clipping_theta=1000,35,32,1e2,1e-2\n",
    "pred_period,pred_len,prefixes=50,50,['分开','不分开']"
   ]
  },
  {
   "cell_type": "code",
   "execution_count": 22,
   "id": "433331e0",
   "metadata": {
    "scrolled": true
   },
   "outputs": [
    {
     "name": "stdout",
     "output_type": "stream",
     "text": [
      "epoch 50,perplexity 69.312167,time 0.39 sec\n",
      "- 分开 我想要这爱 我不能你想 我不能再想 我不能再想 我不能再想 我不能再想 我不能再想 我不能再想 我\n",
      "- 不分开  想要你有 我不要再想 我不能再想 我不能再想 我不能再想 我不能再想 我不能再想 我不能再想 我\n",
      "epoch 100,perplexity 10.031016,time 0.38 sec\n",
      "- 分开 我想想这生活 后知后觉 我该好好生活 我知无好生活 后知不觉 你已经离开我 不知不觉 我已了这节奏\n",
      "- 不分开堡 我爱你这辈 我已往事些 我不能再想 我不要再想 我不要再想 我不要再想 我不要再想 我不要再想 \n",
      "epoch 150,perplexity 2.802593,time 0.39 sec\n",
      "- 分开 有子都不  谁在空壶 是小村外的溪边 默默等待 娘子 一壶棍酒 再指 我已 我静情再想 我不能 你\n",
      "- 不分开简 我不能再想 我不 我不 我不能再想你 爱情不觉 你已经离开我 不知不觉 我跟了这节奏 后知后觉 \n",
      "epoch 200,perplexity 1.573672,time 0.39 sec\n",
      "- 分开 有直都什一 三色三斗奇 这里什么奇怪的事都有 包括像猫的狗 印地安老斑鸠 平常话不多 除非是乌鸦抢\n",
      "- 不分开扫把单单没有伤害 你 靠着我的肩膀 你 在我胸口睡著 像这样的生活 我爱你 你爱我 开不了口 周杰伦\n",
      "epoch 250,perplexity 1.311683,time 0.39 sec\n",
      "- 分开 一直用它心仪的母斑鸠 印地安老斑鸠 腿短毛不多 几天都没有喝水也能活 脑袋瓜有一点秀逗 猎物死了它\n",
      "- 不分开期 我叫你爸 你来我妈 这样对吗夫 这样 他念念依旧词屋 折一枝杨柳 你在那里 在小村外的溪边河口默\n"
     ]
    }
   ],
   "source": [
    "train_and_predict_rnn(rnn,get_params,init_rnn_state,num_hiddens,vocab_size,device,corpus_indices,idx_to_char,char_to_idx,True,num_epochs,num_steps,lr,clipping_theta,batch_size,pred_period,pred_len,prefixes)"
   ]
  },
  {
   "cell_type": "code",
   "execution_count": 25,
   "id": "a8e7cabb",
   "metadata": {},
   "outputs": [
    {
     "name": "stdout",
     "output_type": "stream",
     "text": [
      "epoch 50,perplexity 59.182191,time 0.37 sec\n",
      "- 分开 我想要这样 我不能我想 我不能我想 我不能我想 我不能我想 我不能我想 我不能我想 我不能我想 我\n",
      "- 不分开 我不要再可 我不要我想 我不能我想 我不能我想 我不能我想 我不能我想 我不能我想 我不能我想 我\n",
      "epoch 100,perplexity 6.698817,time 0.39 sec\n",
      "- 分开 我不要再想 我不要再想 我不能 爱情我的见活 不话去对 快使用双截棍 哼哼哈兮 快使用双截棍 哼哼\n",
      "- 不分开柳 你怎么这 我 靠带你的让快 像发球 瞎不了 什么就有 在对一直的溪边 我默能的二 在阵的名 在你\n",
      "epoch 150,perplexity 2.024866,time 0.37 sec\n",
      "- 分开  说什么其 我试一够恼 我不能再想  爱有你烦 有种人直不怪我景跑活 脑在去斑简单只 学少林我环绕\n",
      "- 不分开柳 你已么离 你来是带  让它什在 我暖了空蛛 相色蜡烛 温暖了空屋 白色蜡烛 温暖了空屋 白色蜡烛\n",
      "epoch 200,perplexity 1.291796,time 0.39 sec\n",
      "- 分开 问候的黑不果起 虽 就底我跟棒你的那像就 你爱我以可神女 但那杂人 再来一碗热粥 配上几斤的牛肉 \n",
      "- 不分开觉 你已经离开我 不知不觉 我跟了这节奏 后知后觉 又过了一个秋 后知后觉 我该好好生活 我该好好生\n",
      "epoch 250,perplexity 1.176950,time 0.37 sec\n",
      "- 分开 问候的人猫笑起来力哭 啦啦啦呜 用水晶球替人占卜 她说下午三点阳光射进教堂的角度 能知道你前世是狼\n",
      "- 不分开觉 你已经离开我 不知不觉 我跟了这节奏 后知后觉 又过了一个秋 后知后觉 我该好好生活 我该好好生\n",
      "epoch 300,perplexity 1.143871,time 0.38 sec\n",
      "- 分开  什子我看点我有你 决定中断熟悉 然后在这里 不限日期 然后将过去 慢慢温习 让我爱上你 那场悲剧\n",
      "- 不分开觉 你已经离开我 不知不觉 我跟了这节奏 后知后觉 又过了一个秋 后知后觉 我该好好生活 我该好好生\n",
      "epoch 350,perplexity 1.109575,time 0.37 sec\n",
      "- 分开 问弄心依身的老墙斑 在心是你在出 它每一忆现球 太么都靠我 你拿着球不投 又不会掩护我 选你这种队\n",
      "- 不分开觉 你已经离开我 不知不觉 我跟了这节奏 后知后觉 又过了一个秋 后知后觉 我该好好生活 我该好好生\n",
      "epoch 400,perplexity 1.101396,time 0.37 sec\n",
      "- 分开 问候的话旧的起的家只 草你第很 有你不过  但它确在这快 它不发 干什走 我想开任样牵着你的手不放\n",
      "- 不分开觉 你天经离开我 不知不觉 我跟了这节奏 后知后觉 后过了一个秋 后知后觉 我该好好生活 我该好好生\n",
      "epoch 450,perplexity 1.299531,time 0.37 sec\n",
      "- 分开  我的你这常骑单纵 瞎实一 它点两明每画 让有得很医药 说物许愿池里 快亮的假动在 帅呆了我 全你\n",
      "- 不分开觉 你已经离 我怎在带在人美我 心是太多 我想一定是我听错弄错搞错 拜托 我想是你的脑袋有问题 随便\n",
      "epoch 500,perplexity 2468.876555,time 0.39 sec\n",
      "- 分开 有来在一我还著难可了你怎黑面穿我想大不手你白就都就对够 走色都 对里了暴色截用对已么看一上几是 我\n",
      "- 不分开想都就不快直用柳截用著想直跳习截用是一直重老直边 什我成之步走 印前成的可爱用步后直看柳都用不哼物这\n",
      "epoch 550,perplexity 339.274180,time 0.38 sec\n",
      "- 分开 后的我有 你别你的你 为我的的太笑板的练边盯年 我面想你的你爱每有 一成的让我 我面能 我想的让面\n",
      "- 不分开 一亮不里的可小 在小完的有的我 相怪都有睡一是的可一颗的语 一颗 我面家乡了 我有你是你每一年 著\n",
      "epoch 600,perplexity 40.880134,time 0.39 sec\n",
      "- 分开 在什的世我感狂的可爱女人 你坏的让我疯狂的可爱女人 坏坏的让我疯狂的可爱女人 坏坏的让我疯狂的可爱\n",
      "- 不分开觉 这多在 一颗两颗三步四步望 就著的让我疯狂的可爱女人 坏坏再来我 我有往再恼不 我该 你生你 后\n",
      "epoch 650,perplexity 19.360055,time 0.39 sec\n",
      "- 分开 在什么 旧九两著三着 不懂 我不懂 连时我有 这谁 我不懂 别我不么 快使耿人 恨一个停步人 风上\n",
      "- 不分开亚 你在到有对写 哼亮的客斑 是你的在我 狂你在美 没懂它日的溪 干色入秋 如果了练截棍 一上正被 \n",
      "epoch 700,perplexity 12.356515,time 0.36 sec\n",
      "- 分开 我想啊再抽 我想就再想 我不已再想 我想定再想 我不已再想 我想定再想 我不已再想 我想定再想 我\n",
      "- 不分开亚 你已经你已经 不知不觉 你跟了这 寒有己梦 还隐的人 在小着停 回是一发 全有 情失我 别怪就 \n",
      "epoch 750,perplexity 29.836380,time 0.36 sec\n",
      "- 分开 我想一的可爱 妈知前 我感你开我不要你 飞么就这走你 说么都不 再天了美忆 我后直有恼 有这 娘不\n",
      "- 不分开觉 你已经 爱爱了 有爱球动 当实了空 在我的外 就小之离轻  一场风口 我有儿烦不 我不要再想你的\n",
      "epoch 800,perplexity 228.470118,time 0.37 sec\n",
      "- 分开 它满一事主剧 连样的让 习什么练主 让样棍  连子线 它默我 我的就  什知 语使就美 河等出两主\n",
      "- 不分开柳 你已分抽 我 黄有悄口 活 它的线子  有的回忆了 干有儿 娘子就么 我都无两里了 哼默见 我 \n",
      "epoch 850,perplexity 550.526710,time 0.37 sec\n",
      "- 分开没武的可动 再不好 一直风觉 我的让 什知风不 再有好 我想你 一口的层 我的让 从给风不 再有好 \n",
      "- 不分开柳 当懂 一起用红 再有我 又的风不不口的客  哼有 什的风口 再的客 在果后不着的我  人的让 如\n",
      "epoch 900,perplexity 311.141331,time 0.38 sec\n",
      "- 分开人 篮成线你的让我感外的难 我知不觉  娘说我来的美 我知的你爱女人女人的传 一使了敌 我们不人 有\n",
      "- 不分开 飞直的话斑女 我知来的让 哼子的你 我跟的事我疯狂 娘子都狂的可来的让我疯狂到觉 我不的可爱手 一\n",
      "epoch 950,perplexity 257.559268,time 0.39 sec\n",
      "- 分开  你是么的可爱女人 哼 我真么没想女空 温你感狂哈可下都起现棍 也成线口爱快人哈兮栈女人泣棍柔女年\n",
      "- 不分开觉 你 经这主种 你知 我爱女人女棍待溪问感人 篮知好人截棍空女外 我跟了这 你你你 哈物心觉在有我\n",
      "epoch 1000,perplexity 316.823970,time 0.37 sec\n",
      "- 分开  有为么球酒的快 说有默兮 快我疯你的很 女很的 我的天子可爱 夕小到让只  说依样 我有有烦了你\n",
      "- 不分开 她我爱枝四 爱已了 我 我该你这想 我不要 快使了老 每我不要 这怪了很屋我 我的完很截 我不天 \n"
     ]
    }
   ],
   "source": [
    "train_and_predict_rnn(rnn,get_params,init_rnn_state,num_hiddens,vocab_size,device,corpus_indices,idx_to_char,char_to_idx,False,num_epochs,num_steps,lr,clipping_theta,batch_size,pred_period,pred_len,prefixes)"
   ]
  }
 ],
 "metadata": {
  "kernelspec": {
   "display_name": "Python 3",
   "language": "python",
   "name": "python3"
  },
  "language_info": {
   "codemirror_mode": {
    "name": "ipython",
    "version": 3
   },
   "file_extension": ".py",
   "mimetype": "text/x-python",
   "name": "python",
   "nbconvert_exporter": "python",
   "pygments_lexer": "ipython3",
   "version": "3.8.7"
  }
 },
 "nbformat": 4,
 "nbformat_minor": 5
}
