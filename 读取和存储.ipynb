{
 "cells": [
  {
   "cell_type": "markdown",
   "id": "ce1f0b97",
   "metadata": {},
   "source": [
    "## 读写TENSOR"
   ]
  },
  {
   "cell_type": "markdown",
   "id": "691e494e",
   "metadata": {},
   "source": [
    "我们可以直接使⽤ save 函数和 load 函数分别存储和读取 Tensor 。 save 使⽤Python的pickle实⽤\n",
    "程序将对象进⾏序列化，然后将序列化的对象保存到disk，使⽤ save 可以保存各种对象,包括模型、张\n",
    "量和字典等。⽽ laod 使⽤pickle unpickle⼯具将pickle的对象⽂件反序列化为内存。"
   ]
  },
  {
   "cell_type": "code",
   "execution_count": 3,
   "id": "01783434",
   "metadata": {},
   "outputs": [],
   "source": [
    "import torch\n",
    "from torch import nn\n",
    "\n",
    "x=torch.ones(3)\n",
    "torch.save(x,'x.pt')"
   ]
  },
  {
   "cell_type": "code",
   "execution_count": 4,
   "id": "d8633204",
   "metadata": {},
   "outputs": [
    {
     "name": "stdout",
     "output_type": "stream",
     "text": [
      "tensor([1., 1., 1.])\n"
     ]
    }
   ],
   "source": [
    "x2=torch.load('x.pt')\n",
    "print(x2)"
   ]
  },
  {
   "cell_type": "code",
   "execution_count": 5,
   "id": "d87787eb",
   "metadata": {},
   "outputs": [
    {
     "data": {
      "text/plain": [
       "[tensor([1., 1., 1.]), tensor([0., 0., 0., 0.])]"
      ]
     },
     "execution_count": 5,
     "metadata": {},
     "output_type": "execute_result"
    }
   ],
   "source": [
    "y=torch.zeros(4)\n",
    "torch.save([x,y],'xy.pt')\n",
    "xy_list=torch.load('xy.pt')\n",
    "xy_list"
   ]
  },
  {
   "cell_type": "code",
   "execution_count": 6,
   "id": "2ab9f5e4",
   "metadata": {},
   "outputs": [
    {
     "data": {
      "text/plain": [
       "{'x': tensor([1., 1., 1.]), 'y': tensor([0., 0., 0., 0.])}"
      ]
     },
     "execution_count": 6,
     "metadata": {},
     "output_type": "execute_result"
    }
   ],
   "source": [
    "torch.save({'x':x,'y':y},'xy_dict.pt')\n",
    "xy=torch.load('xy_dict.pt')\n",
    "xy"
   ]
  },
  {
   "cell_type": "markdown",
   "id": "9f713402",
   "metadata": {},
   "source": [
    "## 读写模型"
   ]
  },
  {
   "cell_type": "markdown",
   "id": "457d0225",
   "metadata": {},
   "source": [
    "### state_dict"
   ]
  },
  {
   "cell_type": "markdown",
   "id": "82c3cfde",
   "metadata": {},
   "source": [
    "state_dict 是⼀个从参数名称隐射到参数 Tesnor 的字典对象"
   ]
  },
  {
   "cell_type": "code",
   "execution_count": 7,
   "id": "a97b766e",
   "metadata": {},
   "outputs": [
    {
     "data": {
      "text/plain": [
       "OrderedDict([('hidden.weight',\n",
       "              tensor([[-0.2831,  0.5174,  0.4192],\n",
       "                      [-0.5686, -0.0802,  0.2640]])),\n",
       "             ('hidden.bias', tensor([0.2388, 0.1167])),\n",
       "             ('output.weight', tensor([[-0.1074,  0.2947]])),\n",
       "             ('output.bias', tensor([0.1011]))])"
      ]
     },
     "execution_count": 7,
     "metadata": {},
     "output_type": "execute_result"
    }
   ],
   "source": [
    "class MLP(nn.Module):\n",
    "    def __init__(self):\n",
    "        super(MLP,self).__init__()\n",
    "        self.hidden=nn.Linear(3,2)\n",
    "        self.act=nn.ReLU()\n",
    "        self.output=nn.Linear(2,1)\n",
    "    def forward(self,x):\n",
    "        a=self.act(self.hidden(x))\n",
    "        return self.output(a)\n",
    "net=MLP()\n",
    "net.state_dict()"
   ]
  },
  {
   "cell_type": "code",
   "execution_count": 8,
   "id": "e5823172",
   "metadata": {
    "scrolled": true
   },
   "outputs": [
    {
     "data": {
      "text/plain": [
       "{'state': {},\n",
       " 'param_groups': [{'lr': 0.001,\n",
       "   'momentum': 0.9,\n",
       "   'dampening': 0,\n",
       "   'weight_decay': 0,\n",
       "   'nesterov': False,\n",
       "   'params': [0, 1, 2, 3]}]}"
      ]
     },
     "execution_count": 8,
     "metadata": {},
     "output_type": "execute_result"
    }
   ],
   "source": [
    "optimizer=torch.optim.SGD(net.parameters(),lr=0.001,momentum=0.9)\n",
    "optimizer.state_dict()"
   ]
  },
  {
   "cell_type": "markdown",
   "id": "15ed8ab4",
   "metadata": {},
   "source": [
    "### 保存和加载模型"
   ]
  },
  {
   "cell_type": "markdown",
   "id": "7a01f66a",
   "metadata": {},
   "source": [
    "#### 保存和加载state_dict（推荐方式）"
   ]
  },
  {
   "cell_type": "markdown",
   "id": "14b76dbc",
   "metadata": {},
   "source": [
    "    torch.save(model.state_dict(),PATH)#推荐的文件后缀名是pt或pth"
   ]
  },
  {
   "cell_type": "markdown",
   "id": "18de9659",
   "metadata": {},
   "source": [
    "    model=TheModelClass(*args,**kwargs)\n",
    "    model.load_state_dict(torch.load(PATH))"
   ]
  },
  {
   "cell_type": "markdown",
   "id": "0bc48ff3",
   "metadata": {},
   "source": [
    "#### 保存和加载整个模型"
   ]
  },
  {
   "cell_type": "markdown",
   "id": "9bc65208",
   "metadata": {},
   "source": [
    "    torch.save(model,PATH)"
   ]
  },
  {
   "cell_type": "markdown",
   "id": "50768cfb",
   "metadata": {},
   "source": [
    "    model=torch.load(PATH)"
   ]
  },
  {
   "cell_type": "code",
   "execution_count": 10,
   "id": "f9270453",
   "metadata": {},
   "outputs": [
    {
     "data": {
      "text/plain": [
       "tensor([[True],\n",
       "        [True]])"
      ]
     },
     "execution_count": 10,
     "metadata": {},
     "output_type": "execute_result"
    }
   ],
   "source": [
    "X=torch.randn(2,3)\n",
    "Y=net(X)\n",
    "\n",
    "PATH='./net.pt'\n",
    "torch.save(net.state_dict(),PATH)\n",
    "\n",
    "net2=MLP()\n",
    "net2.load_state_dict(torch.load(PATH))\n",
    "Y2=net2(X)\n",
    "Y2==Y"
   ]
  }
 ],
 "metadata": {
  "kernelspec": {
   "display_name": "Python 3",
   "language": "python",
   "name": "python3"
  },
  "language_info": {
   "codemirror_mode": {
    "name": "ipython",
    "version": 3
   },
   "file_extension": ".py",
   "mimetype": "text/x-python",
   "name": "python",
   "nbconvert_exporter": "python",
   "pygments_lexer": "ipython3",
   "version": "3.8.7"
  }
 },
 "nbformat": 4,
 "nbformat_minor": 5
}
