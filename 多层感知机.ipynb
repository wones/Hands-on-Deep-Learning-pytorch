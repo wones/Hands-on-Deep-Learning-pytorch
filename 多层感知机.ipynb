{
 "cells": [
  {
   "cell_type": "markdown",
   "id": "00166320",
   "metadata": {},
   "source": [
    "多层感知机就是含有⾄少⼀个隐藏层的由全连接层组成的神经⽹络，且每个隐藏层的输出通过激活函数进⾏变换。"
   ]
  },
  {
   "cell_type": "code",
   "execution_count": 3,
   "id": "8b1cde3b",
   "metadata": {},
   "outputs": [],
   "source": [
    "import torch\n",
    "import torchvision\n",
    "import torchvision.transforms as transforms\n",
    "import numpy as np\n",
    "import sys"
   ]
  },
  {
   "cell_type": "markdown",
   "id": "2d16a0e5",
   "metadata": {},
   "source": [
    "# 获取和读取数据"
   ]
  },
  {
   "cell_type": "code",
   "execution_count": 4,
   "id": "5c20d4dd",
   "metadata": {},
   "outputs": [],
   "source": [
    "batch_size=256\n",
    "mnist_train=torchvision.datasets.FashionMNIST(root='./Datasets/FashionMNIST',train=True,download=False,transform=transforms.ToTensor())\n",
    "mnist_test=torchvision.datasets.FashionMNIST(root='./Datasets/FashionMNIST',train=False,download=False,transform=transforms.ToTensor())\n",
    "if sys.platform.startswith('win'):\n",
    "    num_workers=0\n",
    "else:\n",
    "    num_workers=4\n",
    "train_iter=torch.utils.data.DataLoader(mnist_train,batch_size=batch_size,shuffle=True,num_workers=num_workers)\n",
    "test_iter=torch.utils.data.DataLoader(mnist_test,batch_size=batch_size,shuffle=False,num_workers=num_workers)"
   ]
  },
  {
   "cell_type": "markdown",
   "id": "5a2ee779",
   "metadata": {},
   "source": [
    "# 定义模型参数"
   ]
  },
  {
   "cell_type": "code",
   "execution_count": 6,
   "id": "87d17dfd",
   "metadata": {},
   "outputs": [],
   "source": [
    "num_inputs,num_outputs,num_hiddens=784,10,256\n",
    "W1=torch.tensor(np.random.normal(0,0.01,(num_inputs,num_hiddens)),dtype=torch.float)\n",
    "b1=torch.zeros(num_hiddens,dtype=torch.float)\n",
    "W2=torch.tensor(np.random.normal(0,0.01,(num_hiddens,num_outputs)),dtype=torch.float)\n",
    "b2=torch.zeros(num_outputs,dtype=torch.float)\n",
    "\n",
    "params=[W1,b1,W2,b2]\n",
    "for param in params:\n",
    "    param.requires_grad_(requires_grad=True)"
   ]
  },
  {
   "cell_type": "markdown",
   "id": "81361650",
   "metadata": {},
   "source": [
    "# 定义激活函数"
   ]
  },
  {
   "cell_type": "code",
   "execution_count": 8,
   "id": "d9e7a0b6",
   "metadata": {},
   "outputs": [],
   "source": [
    "def relu(X):\n",
    "    return torch.max(input=X,other=torch.tensor(0.0))"
   ]
  },
  {
   "cell_type": "markdown",
   "id": "dbd1e8fa",
   "metadata": {},
   "source": [
    "# 定义模型"
   ]
  },
  {
   "cell_type": "code",
   "execution_count": 9,
   "id": "a340dd30",
   "metadata": {},
   "outputs": [],
   "source": [
    "def net(X):\n",
    "    X=X.view(-1,num_inputs)\n",
    "    H=relu(torch.matmul(X,W1)+b1)\n",
    "    return torch.matmul(H,W2)+b2"
   ]
  },
  {
   "cell_type": "markdown",
   "id": "aef25c07",
   "metadata": {},
   "source": [
    "# 定义损失函数"
   ]
  },
  {
   "cell_type": "code",
   "execution_count": 10,
   "id": "185766f9",
   "metadata": {},
   "outputs": [],
   "source": [
    "loss=torch.nn.CrossEntropyLoss()"
   ]
  },
  {
   "cell_type": "markdown",
   "id": "b92aa119",
   "metadata": {},
   "source": [
    "# 定义优化算法"
   ]
  },
  {
   "cell_type": "code",
   "execution_count": 13,
   "id": "0d782c01",
   "metadata": {},
   "outputs": [],
   "source": [
    "def sgd(params,lr,batch_size):\n",
    "    for param in params:\n",
    "        param.data-=lr*param.grad/batch_size"
   ]
  },
  {
   "cell_type": "markdown",
   "id": "23200896",
   "metadata": {},
   "source": [
    "# 训练模型"
   ]
  },
  {
   "cell_type": "code",
   "execution_count": 11,
   "id": "587eda04",
   "metadata": {},
   "outputs": [],
   "source": [
    "def evaluate_accuracy(data_iter,net):\n",
    "    acc_sum,n=0.0,0\n",
    "    for X,y in data_iter:\n",
    "        acc_sum+=(net(X).argmax(dim=1)==y).float().sum().item()\n",
    "        n+=y.shape[0]\n",
    "    return acc_sum/n"
   ]
  },
  {
   "cell_type": "code",
   "execution_count": 14,
   "id": "5145c2fd",
   "metadata": {},
   "outputs": [],
   "source": [
    "def train_ch3(net,train_iter,test_iter,loss,num_epochs,batch_size,params=None,lr=None,optimizer=None):\n",
    "    for epoch in range(num_epochs):\n",
    "        train_l_sum,train_acc_sum,n=0.0,0.0,0\n",
    "        for X,y in train_iter:\n",
    "            y_hat=net(X)\n",
    "            l=loss(y_hat,y).sum()\n",
    "            \n",
    "            if optimizer is not None:\n",
    "                optimizer.zero_grad()\n",
    "            elif params is not None and params[0].grad is not None:\n",
    "                for param in params:\n",
    "                    param.grad.data.zero_()\n",
    "                    \n",
    "            l.backward()\n",
    "            if optimizer is None:\n",
    "                sgd(params,lr,batch_size)\n",
    "            else:\n",
    "                optimizer.step()\n",
    "                \n",
    "            train_l_sum+=l.item()\n",
    "            train_acc_sum+=(y_hat.argmax(dim=1)==y).sum().item()\n",
    "            n+=y.shape[0]\n",
    "        \n",
    "        test_acc=evaluate_accuracy(test_iter,net)\n",
    "        print('epoch %d,loss %.4f,train acc %.3f,test acc %.3f'%(epoch+1,train_l_sum/n,train_acc_sum/n,test_acc))"
   ]
  },
  {
   "cell_type": "code",
   "execution_count": 15,
   "id": "b0b16f73",
   "metadata": {},
   "outputs": [
    {
     "name": "stdout",
     "output_type": "stream",
     "text": [
      "epoch 1,loss 0.0030,train acc 0.715,test acc 0.731\n",
      "epoch 2,loss 0.0019,train acc 0.822,test acc 0.799\n",
      "epoch 3,loss 0.0017,train acc 0.846,test acc 0.837\n",
      "epoch 4,loss 0.0015,train acc 0.854,test acc 0.844\n",
      "epoch 5,loss 0.0015,train acc 0.863,test acc 0.859\n"
     ]
    }
   ],
   "source": [
    "num_epochs=5\n",
    "lr=100\n",
    "train_ch3(net,train_iter,test_iter,loss,num_epochs,batch_size,params,lr)"
   ]
  }
 ],
 "metadata": {
  "kernelspec": {
   "display_name": "Python 3",
   "language": "python",
   "name": "python3"
  },
  "language_info": {
   "codemirror_mode": {
    "name": "ipython",
    "version": 3
   },
   "file_extension": ".py",
   "mimetype": "text/x-python",
   "name": "python",
   "nbconvert_exporter": "python",
   "pygments_lexer": "ipython3",
   "version": "3.8.7"
  }
 },
 "nbformat": 4,
 "nbformat_minor": 5
}
