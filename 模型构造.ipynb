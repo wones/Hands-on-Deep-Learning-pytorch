{
 "cells": [
  {
   "cell_type": "markdown",
   "id": "ff54f8f0",
   "metadata": {},
   "source": [
    "## 继承MODULE类来构造模型"
   ]
  },
  {
   "cell_type": "markdown",
   "id": "c67e50ca",
   "metadata": {},
   "source": [
    "Module 类是 nn 模块⾥提供的⼀个模型构造类，是所有神经⽹络模块的基类，我们可以继承它来定义\n",
    "我们想要的模型。"
   ]
  },
  {
   "cell_type": "code",
   "execution_count": 3,
   "id": "3de9c81f",
   "metadata": {},
   "outputs": [],
   "source": [
    "import torch\n",
    "from torch import nn\n",
    "\n",
    "class MLP(nn.Module):\n",
    "    #声明带有模型参数的层，这里声明了两个全连接层\n",
    "    def __init__(self,**kwargs):\n",
    "        super(MLP,self).__init__(**kwargs)\n",
    "        self.hidden=nn.Linear(784,256)\n",
    "        self.act=nn.ReLU()\n",
    "        self.output=nn.Linear(256,10)\n",
    "    #定义模型的前向计算，即如何根据输入x计算返回所需要的模型输出\n",
    "    def forward(self,x):\n",
    "        a=self.act(self.hidden(x))\n",
    "        return self.output(a)"
   ]
  },
  {
   "cell_type": "code",
   "execution_count": 4,
   "id": "5de513a7",
   "metadata": {
    "scrolled": true
   },
   "outputs": [
    {
     "name": "stdout",
     "output_type": "stream",
     "text": [
      "MLP(\n",
      "  (hidden): Linear(in_features=784, out_features=256, bias=True)\n",
      "  (act): ReLU()\n",
      "  (output): Linear(in_features=256, out_features=10, bias=True)\n",
      ")\n"
     ]
    },
    {
     "data": {
      "text/plain": [
       "tensor([[ 0.1216,  0.1289,  0.1792, -0.2059, -0.1853, -0.2181,  0.1470,  0.1223,\n",
       "         -0.0382,  0.0663],\n",
       "        [ 0.1149,  0.0916,  0.0808, -0.2868, -0.2926, -0.1868, -0.0096,  0.1593,\n",
       "         -0.1564,  0.0213]], grad_fn=<AddmmBackward>)"
      ]
     },
     "execution_count": 4,
     "metadata": {},
     "output_type": "execute_result"
    }
   ],
   "source": [
    "X=torch.rand(2,784)\n",
    "net=MLP()\n",
    "print(net)\n",
    "net(X)"
   ]
  },
  {
   "cell_type": "markdown",
   "id": "0b72925b",
   "metadata": {},
   "source": [
    "## MODULE的子类"
   ]
  },
  {
   "cell_type": "markdown",
   "id": "212cc382",
   "metadata": {},
   "source": [
    "### Sequential类"
   ]
  },
  {
   "cell_type": "markdown",
   "id": "04dca14f",
   "metadata": {},
   "source": [
    "当模型的前向计算为简单串联各个层的计算时， Sequential 类可以通过更加简单的⽅式定义模型。这\n",
    "正是 Sequential 类的⽬的：它可以接收⼀个⼦模块的有序字典（OrderedDict）或者⼀系列⼦模块作\n",
    "为参数来逐⼀添加 Module 的实例，⽽模型的前向计算就是将这些实例按添加的顺序逐⼀计算。"
   ]
  },
  {
   "cell_type": "code",
   "execution_count": 5,
   "id": "a8a5ee10",
   "metadata": {},
   "outputs": [],
   "source": [
    "class MySequential(nn.Module):\n",
    "    from collections import OrderedDict\n",
    "    def __init__(self,*args):\n",
    "        super(MySequential,self).__init__()\n",
    "        if len(args)==1 and isinstance(args[0],OrderedDict):\n",
    "            for key,module in args[0].items():\n",
    "                self.add_module(key,module)# add_module⽅法会将module添加进self._modules(⼀个OrderedDict)\n",
    "        else:\n",
    "            for idx,module in enumerate(args):\n",
    "                self.add_module(str(idx),module)\n",
    "                \n",
    "    def forward(self,input):\n",
    "        for module in self._modules.values():\n",
    "            input=module(input)\n",
    "        return input"
   ]
  },
  {
   "cell_type": "code",
   "execution_count": 6,
   "id": "30a146c8",
   "metadata": {},
   "outputs": [
    {
     "name": "stdout",
     "output_type": "stream",
     "text": [
      "MySequential(\n",
      "  (0): Linear(in_features=784, out_features=256, bias=True)\n",
      "  (1): ReLU()\n",
      "  (2): Linear(in_features=256, out_features=10, bias=True)\n",
      ")\n"
     ]
    },
    {
     "data": {
      "text/plain": [
       "tensor([[ 0.1146, -0.1560, -0.0271, -0.0986, -0.1116, -0.1496,  0.1060,  0.0225,\n",
       "          0.0967,  0.0420],\n",
       "        [ 0.0696, -0.1562, -0.0302,  0.0043, -0.0368, -0.0221,  0.3237,  0.0855,\n",
       "          0.2227,  0.0649]], grad_fn=<AddmmBackward>)"
      ]
     },
     "execution_count": 6,
     "metadata": {},
     "output_type": "execute_result"
    }
   ],
   "source": [
    "net=MySequential(\n",
    "    nn.Linear(784,256),\n",
    "    nn.ReLU(),\n",
    "    nn.Linear(256,10),\n",
    ")\n",
    "print(net)\n",
    "net(X)"
   ]
  },
  {
   "cell_type": "markdown",
   "id": "c7a2ef73",
   "metadata": {},
   "source": [
    "### ModuleList类"
   ]
  },
  {
   "cell_type": "markdown",
   "id": "e81c313f",
   "metadata": {},
   "source": [
    "ModuleList 接收⼀个⼦模块的列表作为输⼊，然后也可以类似List那样进⾏append和extend操作。"
   ]
  },
  {
   "cell_type": "code",
   "execution_count": 7,
   "id": "7661b7a9",
   "metadata": {
    "scrolled": true
   },
   "outputs": [
    {
     "name": "stdout",
     "output_type": "stream",
     "text": [
      "Linear(in_features=256, out_features=10, bias=True)\n",
      "ModuleList(\n",
      "  (0): Linear(in_features=784, out_features=256, bias=True)\n",
      "  (1): ReLU()\n",
      "  (2): Linear(in_features=256, out_features=10, bias=True)\n",
      ")\n"
     ]
    }
   ],
   "source": [
    "net=nn.ModuleList([nn.Linear(784,256),nn.ReLU()])\n",
    "net.append(nn.Linear(256,10))\n",
    "print(net[-1])\n",
    "print(net)"
   ]
  },
  {
   "cell_type": "markdown",
   "id": "00e69cd1",
   "metadata": {},
   "source": [
    "### ModuleDict类"
   ]
  },
  {
   "cell_type": "markdown",
   "id": "6b945b6d",
   "metadata": {},
   "source": [
    "ModuleDict 接收⼀个⼦模块的字典作为输⼊, 然后也可以类似字典那样进⾏添加访问操作。"
   ]
  },
  {
   "cell_type": "code",
   "execution_count": 8,
   "id": "6659c181",
   "metadata": {
    "scrolled": true
   },
   "outputs": [
    {
     "name": "stdout",
     "output_type": "stream",
     "text": [
      "Linear(in_features=784, out_features=256, bias=True)\n",
      "Linear(in_features=256, out_features=10, bias=True)\n",
      "ModuleDict(\n",
      "  (linear): Linear(in_features=784, out_features=256, bias=True)\n",
      "  (act): ReLU()\n",
      "  (output): Linear(in_features=256, out_features=10, bias=True)\n",
      ")\n"
     ]
    }
   ],
   "source": [
    "net=nn.ModuleDict({\n",
    "    'linear':nn.Linear(784,256),\n",
    "    'act':nn.ReLU(),\n",
    "})\n",
    "net['output']=nn.Linear(256,10)\n",
    "print(net['linear'])\n",
    "print(net.output)\n",
    "print(net)"
   ]
  },
  {
   "cell_type": "markdown",
   "id": "b6201ac4",
   "metadata": {},
   "source": [
    "## 构造复杂的模型"
   ]
  },
  {
   "cell_type": "code",
   "execution_count": 9,
   "id": "c93142d8",
   "metadata": {},
   "outputs": [],
   "source": [
    "class FancyMLP(nn.Module):\n",
    "    def __init__(self,**kwargs):\n",
    "        super(FancyMLP,self).__init__(**kwargs)\n",
    "        \n",
    "        self.rand_weight=torch.rand((20,20),requires_grad=False)#不可训练参数（常数参数）\n",
    "        self.linear=nn.Linear(20,20)\n",
    "    \n",
    "    def forward(self,x):\n",
    "        x=self.linear(x)\n",
    "        #使用创建的常数参数，以及nn.functional中的relu函数和mm函数\n",
    "        x=nn.functional.relu(torch.mm(x,self.rand_weight)+1)\n",
    "        \n",
    "        #复用全连接。等价于两个全连接层共享参数\n",
    "        x=self.linear(x)\n",
    "        #控制流，这里我们需要调用item函数来返回标量进行比较\n",
    "        while x.norm().item()>1:\n",
    "            x/=2\n",
    "        if x.norm().item()<0.8:\n",
    "            x*=10\n",
    "        return x.sum()"
   ]
  },
  {
   "cell_type": "code",
   "execution_count": 10,
   "id": "8c7e6a65",
   "metadata": {},
   "outputs": [
    {
     "name": "stdout",
     "output_type": "stream",
     "text": [
      "FancyMLP(\n",
      "  (linear): Linear(in_features=20, out_features=20, bias=True)\n",
      ")\n"
     ]
    },
    {
     "data": {
      "text/plain": [
       "tensor(-1.8456, grad_fn=<SumBackward0>)"
      ]
     },
     "execution_count": 10,
     "metadata": {},
     "output_type": "execute_result"
    }
   ],
   "source": [
    "X=torch.rand(2,20)\n",
    "net=FancyMLP()\n",
    "print(net)\n",
    "net(X)"
   ]
  },
  {
   "cell_type": "code",
   "execution_count": 11,
   "id": "94129a43",
   "metadata": {},
   "outputs": [
    {
     "name": "stdout",
     "output_type": "stream",
     "text": [
      "Sequential(\n",
      "  (0): NestMLP(\n",
      "    (net): Sequential(\n",
      "      (0): Linear(in_features=40, out_features=30, bias=True)\n",
      "      (1): ReLU()\n",
      "    )\n",
      "  )\n",
      "  (1): Linear(in_features=30, out_features=20, bias=True)\n",
      "  (2): FancyMLP(\n",
      "    (linear): Linear(in_features=20, out_features=20, bias=True)\n",
      "  )\n",
      ")\n"
     ]
    },
    {
     "data": {
      "text/plain": [
       "tensor(11.4486, grad_fn=<SumBackward0>)"
      ]
     },
     "execution_count": 11,
     "metadata": {},
     "output_type": "execute_result"
    }
   ],
   "source": [
    "class NestMLP(nn.Module):\n",
    "    def __init__(self,**kwargs):\n",
    "        super(NestMLP,self).__init__(**kwargs)\n",
    "        self.net=nn.Sequential(nn.Linear(40,30),nn.ReLU())\n",
    "    def forward(self,x):\n",
    "        return self.net(x)\n",
    "net=nn.Sequential(NestMLP(),nn.Linear(30,20),FancyMLP())\n",
    "X=torch.rand(2,40)\n",
    "print(net)\n",
    "net(X)"
   ]
  }
 ],
 "metadata": {
  "kernelspec": {
   "display_name": "Python 3",
   "language": "python",
   "name": "python3"
  },
  "language_info": {
   "codemirror_mode": {
    "name": "ipython",
    "version": 3
   },
   "file_extension": ".py",
   "mimetype": "text/x-python",
   "name": "python",
   "nbconvert_exporter": "python",
   "pygments_lexer": "ipython3",
   "version": "3.8.7"
  }
 },
 "nbformat": 4,
 "nbformat_minor": 5
}
