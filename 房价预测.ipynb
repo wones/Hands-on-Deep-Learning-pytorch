{
 "cells": [
  {
   "cell_type": "markdown",
   "id": "c8ca97f2",
   "metadata": {},
   "source": [
    "## 获取和读取数据"
   ]
  },
  {
   "cell_type": "code",
   "execution_count": 39,
   "id": "e20495e8",
   "metadata": {},
   "outputs": [
    {
     "name": "stdout",
     "output_type": "stream",
     "text": [
      "1.8.1+cpu\n"
     ]
    }
   ],
   "source": [
    "%matplotlib inline\n",
    "import torch\n",
    "import torch.nn as nn\n",
    "import matplotlib.pyplot as plt\n",
    "import numpy as np\n",
    "import pandas as pd\n",
    "import sys\n",
    "print(torch.__version__)\n",
    "torch.set_default_tensor_type(torch.FloatTensor)"
   ]
  },
  {
   "cell_type": "code",
   "execution_count": 3,
   "id": "426fcb85",
   "metadata": {},
   "outputs": [],
   "source": [
    "train_data=pd.read_csv('Datasets/housePrices/train.csv')\n",
    "test_data=pd.read_csv('Datasets/housePrices/test.csv')"
   ]
  },
  {
   "cell_type": "code",
   "execution_count": 4,
   "id": "b0292061",
   "metadata": {},
   "outputs": [
    {
     "data": {
      "text/plain": [
       "(1460, 81)"
      ]
     },
     "execution_count": 4,
     "metadata": {},
     "output_type": "execute_result"
    }
   ],
   "source": [
    "train_data.shape"
   ]
  },
  {
   "cell_type": "code",
   "execution_count": 5,
   "id": "a400e201",
   "metadata": {},
   "outputs": [
    {
     "data": {
      "text/plain": [
       "(1459, 80)"
      ]
     },
     "execution_count": 5,
     "metadata": {},
     "output_type": "execute_result"
    }
   ],
   "source": [
    "test_data.shape"
   ]
  },
  {
   "cell_type": "code",
   "execution_count": 6,
   "id": "13cba13b",
   "metadata": {},
   "outputs": [
    {
     "data": {
      "text/html": [
       "<div>\n",
       "<style scoped>\n",
       "    .dataframe tbody tr th:only-of-type {\n",
       "        vertical-align: middle;\n",
       "    }\n",
       "\n",
       "    .dataframe tbody tr th {\n",
       "        vertical-align: top;\n",
       "    }\n",
       "\n",
       "    .dataframe thead th {\n",
       "        text-align: right;\n",
       "    }\n",
       "</style>\n",
       "<table border=\"1\" class=\"dataframe\">\n",
       "  <thead>\n",
       "    <tr style=\"text-align: right;\">\n",
       "      <th></th>\n",
       "      <th>Id</th>\n",
       "      <th>MSSubClass</th>\n",
       "      <th>MSZoning</th>\n",
       "      <th>LotFrontage</th>\n",
       "      <th>SaleType</th>\n",
       "      <th>SaleCondition</th>\n",
       "      <th>SalePrice</th>\n",
       "    </tr>\n",
       "  </thead>\n",
       "  <tbody>\n",
       "    <tr>\n",
       "      <th>0</th>\n",
       "      <td>1</td>\n",
       "      <td>60</td>\n",
       "      <td>RL</td>\n",
       "      <td>65.0</td>\n",
       "      <td>WD</td>\n",
       "      <td>Normal</td>\n",
       "      <td>208500</td>\n",
       "    </tr>\n",
       "    <tr>\n",
       "      <th>1</th>\n",
       "      <td>2</td>\n",
       "      <td>20</td>\n",
       "      <td>RL</td>\n",
       "      <td>80.0</td>\n",
       "      <td>WD</td>\n",
       "      <td>Normal</td>\n",
       "      <td>181500</td>\n",
       "    </tr>\n",
       "    <tr>\n",
       "      <th>2</th>\n",
       "      <td>3</td>\n",
       "      <td>60</td>\n",
       "      <td>RL</td>\n",
       "      <td>68.0</td>\n",
       "      <td>WD</td>\n",
       "      <td>Normal</td>\n",
       "      <td>223500</td>\n",
       "    </tr>\n",
       "    <tr>\n",
       "      <th>3</th>\n",
       "      <td>4</td>\n",
       "      <td>70</td>\n",
       "      <td>RL</td>\n",
       "      <td>60.0</td>\n",
       "      <td>WD</td>\n",
       "      <td>Abnorml</td>\n",
       "      <td>140000</td>\n",
       "    </tr>\n",
       "  </tbody>\n",
       "</table>\n",
       "</div>"
      ],
      "text/plain": [
       "   Id  MSSubClass MSZoning  LotFrontage SaleType SaleCondition  SalePrice\n",
       "0   1          60       RL         65.0       WD        Normal     208500\n",
       "1   2          20       RL         80.0       WD        Normal     181500\n",
       "2   3          60       RL         68.0       WD        Normal     223500\n",
       "3   4          70       RL         60.0       WD       Abnorml     140000"
      ]
     },
     "execution_count": 6,
     "metadata": {},
     "output_type": "execute_result"
    }
   ],
   "source": [
    "train_data.iloc[0:4,[0,1,2,3,-3,-2,-1]]"
   ]
  },
  {
   "cell_type": "code",
   "execution_count": 8,
   "id": "0386b6e8",
   "metadata": {},
   "outputs": [],
   "source": [
    "all_features=pd.concat((train_data.iloc[:,1:-1],test_data.iloc[:,1:]))"
   ]
  },
  {
   "cell_type": "code",
   "execution_count": 10,
   "id": "a6852dd2",
   "metadata": {},
   "outputs": [
    {
     "data": {
      "text/plain": [
       "(2919, 79)"
      ]
     },
     "execution_count": 10,
     "metadata": {},
     "output_type": "execute_result"
    }
   ],
   "source": [
    "all_features.shape"
   ]
  },
  {
   "cell_type": "markdown",
   "id": "c84d3e79",
   "metadata": {},
   "source": [
    "## 预处理数据"
   ]
  },
  {
   "cell_type": "code",
   "execution_count": 18,
   "id": "c6784661",
   "metadata": {},
   "outputs": [],
   "source": [
    "numeric_features=all_features.dtypes[all_features.dtypes!='object'].index\n",
    "all_features[numeric_features]=all_features[numeric_features].apply(lambda x:(x-x.mean())/(x.std()))\n",
    "all_features=all_features.fillna(0)"
   ]
  },
  {
   "cell_type": "code",
   "execution_count": 20,
   "id": "b0e3b419",
   "metadata": {},
   "outputs": [
    {
     "data": {
      "text/plain": [
       "(2919, 354)"
      ]
     },
     "execution_count": 20,
     "metadata": {},
     "output_type": "execute_result"
    }
   ],
   "source": [
    "all_features=pd.get_dummies(all_features,dummy_na=True)# dummy_na=True将缺失值也当作合法的特征值并为其创建指示特征\n",
    "all_features.shape"
   ]
  },
  {
   "cell_type": "code",
   "execution_count": 21,
   "id": "6108a687",
   "metadata": {},
   "outputs": [],
   "source": [
    "n_train=train_data.shape[0]\n",
    "train_features=torch.tensor(all_features[:n_train].values,dtype=torch.float)\n",
    "test_features=torch.tensor(all_features[n_train:].values,dtype=torch.float)\n",
    "train_labels=torch.tensor(train_data.SalePrice.values,dtype=torch.float).view(-1,1)"
   ]
  },
  {
   "cell_type": "markdown",
   "id": "4461a554",
   "metadata": {},
   "source": [
    "## 训练模型"
   ]
  },
  {
   "cell_type": "code",
   "execution_count": 22,
   "id": "2bce019e",
   "metadata": {},
   "outputs": [],
   "source": [
    "loss=torch.nn.MSELoss()\n",
    "def get_net(feature_num):\n",
    "    net=nn.Linear(feature_num,1)\n",
    "    for param in net.parameters():\n",
    "        nn.init.normal_(param,mean=0,std=0.01)\n",
    "    return net"
   ]
  },
  {
   "cell_type": "code",
   "execution_count": 23,
   "id": "6281160c",
   "metadata": {},
   "outputs": [],
   "source": [
    "def log_rmse(net,features,labels):\n",
    "    with torch.no_grad():\n",
    "        clipped_preds=torch.max(net(features),torch.tensor(1.0))\n",
    "        rmse=torch.sqrt(2*loss(clipped_preds.log(),labels.log()).mean())\n",
    "    return rmse.item()"
   ]
  },
  {
   "cell_type": "code",
   "execution_count": 25,
   "id": "12154770",
   "metadata": {},
   "outputs": [],
   "source": [
    "def train(net,train_features,train_labels,test_features,test_labels,num_epochs,learning_rate,weight_decay,batch_size):\n",
    "    train_ls,test_ls=[],[]\n",
    "    dataset=torch.utils.data.TensorDataset(train_features,train_labels)\n",
    "    train_iter=torch.utils.data.DataLoader(dataset,batch_size,shuffle=True)\n",
    "    optimizer=torch.optim.Adam(params=net.parameters(),lr=learning_rate,weight_decay=weight_decay)\n",
    "    net=net.float()\n",
    "    for epoch in range(num_epochs):\n",
    "        for X,y in train_iter:\n",
    "            l=loss(net(X.float()),y.float())\n",
    "            optimizer.zero_grad()\n",
    "            l.backward()\n",
    "            optimizer.step()\n",
    "        train_ls.append(log_rmse(net,train_features,train_labels))\n",
    "        if test_labels is not None:\n",
    "            test_ls.append(log_rmse(net,test_features,test_labels))\n",
    "    return train_ls,test_ls"
   ]
  },
  {
   "cell_type": "markdown",
   "id": "18b860d6",
   "metadata": {},
   "source": [
    "## 显示曲线"
   ]
  },
  {
   "cell_type": "code",
   "execution_count": 27,
   "id": "164a3f83",
   "metadata": {},
   "outputs": [],
   "source": [
    "def semilogy(x_vals,y_vals,x_label,y_label,x2_vals=None,y2_vals=None,legend=None):\n",
    "    plt.xlabel(x_label)\n",
    "    plt.ylabel(y_label)\n",
    "    plt.semilogy(x_vals,y_vals)\n",
    "    if x2_vals and y2_vals:\n",
    "        plt.semilogy(x2_vals,y2_vals,linestyle=':')\n",
    "        plt.legend(legend)"
   ]
  },
  {
   "cell_type": "markdown",
   "id": "c21f00a8",
   "metadata": {},
   "source": [
    "## K折交叉验证"
   ]
  },
  {
   "cell_type": "code",
   "execution_count": 26,
   "id": "1ee18427",
   "metadata": {},
   "outputs": [],
   "source": [
    "def get_k_fold_data(k,i,X,y):\n",
    "    # 返回第i折交叉验证时所需要的训练和验证数据\n",
    "    assert k>1\n",
    "    fold_size=X.shape[0]//k\n",
    "    X_train,y_train=None,None\n",
    "    for j in range(k):\n",
    "        idx=slice(j*fold_size,(j+1)*fold_size)\n",
    "        X_part,y_part=X[idx,:],y[idx]\n",
    "        if j==i:\n",
    "            X_valid,y_valid=X_part,y_part\n",
    "        elif X_train is None:\n",
    "            X_train,y_train=X_part,y_part\n",
    "        else:\n",
    "            X_train=torch.cat((X_train,X_part),dim=0)\n",
    "            y_train=torch.cat((y_train,y_part),dim=0)\n",
    "    return X_train,y_train,X_valid,y_valid"
   ]
  },
  {
   "cell_type": "code",
   "execution_count": 28,
   "id": "bf9c2dde",
   "metadata": {},
   "outputs": [],
   "source": [
    "def k_fold(k,X_train,y_train,num_epochs,learning_rate,weight_decay,batch_size):\n",
    "    train_l_sum,valid_l_sum=0,0\n",
    "    for i in range(k):\n",
    "        data=get_k_fold_data(k,i,X_train,y_train)\n",
    "        net=get_net(X_train.shape[1])\n",
    "        train_ls,valid_ls=train(net,*data,num_epochs,learning_rate,weight_decay,batch_size)\n",
    "        train_l_sum+=train_ls[-1]\n",
    "        valid_l_sum+=valid_ls[-1]\n",
    "        if i==0:\n",
    "            semilogy(range(1,num_epochs+1),train_ls,'epochs','rmse',range(1,num_epochs+1),valid_ls,['train','valid'])\n",
    "        print('fold %d,train rmse %f,valid rmse %f'%(i,train_ls[-1],valid_ls[-1]))\n",
    "    return train_l_sum/k,valid_l_sum/k"
   ]
  },
  {
   "cell_type": "markdown",
   "id": "4b2b1baf",
   "metadata": {},
   "source": [
    "## 模型选择"
   ]
  },
  {
   "cell_type": "code",
   "execution_count": 41,
   "id": "efd0bcf7",
   "metadata": {
    "scrolled": true
   },
   "outputs": [
    {
     "name": "stdout",
     "output_type": "stream",
     "text": [
      "fold 0,train rmse 0.177432,valid rmse 0.249644\n",
      "fold 1,train rmse 0.166672,valid rmse 0.244233\n",
      "fold 2,train rmse 0.169209,valid rmse 0.227694\n",
      "fold 3,train rmse 0.176412,valid rmse 0.220847\n",
      "fold 4,train rmse 0.159359,valid rmse 0.230819\n",
      "5-fold validation:avg train rmse 0.169817,avg valid rmse 0.234648\n"
     ]
    },
    {
     "data": {
      "image/png": "[encoded data removed]",
      "text/plain": [
       "<Figure size 432x288 with 1 Axes>"
      ]
     },
     "metadata": {
      "needs_background": "light"
     },
     "output_type": "display_data"
    }
   ],
   "source": [
    "k,num_epochs,lr,weight_decay,batch_size=5,1000,5,0,64\n",
    "train_l,valid_l=k_fold(k,train_features,train_labels,num_epochs,lr,weight_decay,batch_size)\n",
    "print('%d-fold validation:avg train rmse %f,avg valid rmse %f'%(k,train_l,valid_l))"
   ]
  },
  {
   "cell_type": "markdown",
   "id": "83d6f6ad",
   "metadata": {},
   "source": [
    "## 预测并在KAGGLE提交结果"
   ]
  },
  {
   "cell_type": "code",
   "execution_count": 42,
   "id": "d31f65b4",
   "metadata": {},
   "outputs": [],
   "source": [
    "def train_and_pred(train_features,test_features,train_labels,test_data,num_epochs,lr,weight_decay,batch_size):\n",
    "    net=get_net(train_features.shape[1])\n",
    "    train_ls,_=train(net,train_features,train_labels,None,None,num_epochs,lr,weight_decay,batch_size)\n",
    "    semilogy(range(1,num_epochs+1),train_ls,'epochs','rmse')\n",
    "    print('train rmse %f'%train_ls[-1])\n",
    "    preds=net(test_features).detach().numpy()\n",
    "    print(preds.shape)\n",
    "    test_data['SalePrice']=pd.Series(preds.reshape(1,-1)[0])\n",
    "    submission=pd.concat([test_data['Id'],test_data['SalePrice']],axis=1)\n",
    "    submission.to_csv('./submission.csv',index=False)"
   ]
  },
  {
   "cell_type": "code",
   "execution_count": 43,
   "id": "0e0b6ea0",
   "metadata": {},
   "outputs": [
    {
     "name": "stdout",
     "output_type": "stream",
     "text": [
      "train rmse 0.173193\n",
      "(1459, 1)\n"
     ]
    },
    {
     "data": {
      "image/png": "[encoded data removed]",
      "text/plain": [
       "<Figure size 432x288 with 1 Axes>"
      ]
     },
     "metadata": {
      "needs_background": "light"
     },
     "output_type": "display_data"
    }
   ],
   "source": [
    "train_and_pred(train_features,test_features,train_labels,test_data,num_epochs,lr,weight_decay,batch_size)"
   ]
  }
 ],
 "metadata": {
  "kernelspec": {
   "display_name": "Python 3",
   "language": "python",
   "name": "python3"
  },
  "language_info": {
   "codemirror_mode": {
    "name": "ipython",
    "version": 3
   },
   "file_extension": ".py",
   "mimetype": "text/x-python",
   "name": "python",
   "nbconvert_exporter": "python",
   "pygments_lexer": "ipython3",
   "version": "3.8.7"
  }
 },
 "nbformat": 4,
 "nbformat_minor": 5
}
