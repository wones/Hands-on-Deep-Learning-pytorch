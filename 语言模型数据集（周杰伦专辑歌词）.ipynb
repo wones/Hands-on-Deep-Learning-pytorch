{
 "cells": [
  {
   "cell_type": "markdown",
   "id": "f1d4062e",
   "metadata": {},
   "source": [
    "# 读取数据集"
   ]
  },
  {
   "cell_type": "code",
   "execution_count": 1,
   "id": "caca40ab",
   "metadata": {},
   "outputs": [
    {
     "data": {
      "text/plain": [
       "'想要有直升机\\n想要和你飞到宇宙去\\n想要和你融化在一起\\n融化在宇宙里\\n我每天每天每'"
      ]
     },
     "execution_count": 1,
     "metadata": {},
     "output_type": "execute_result"
    }
   ],
   "source": [
    "import torch\n",
    "import random\n",
    "import zipfile\n",
    "with zipfile.ZipFile('./Datasets/jaychou_lyrics.txt.zip') as zin:\n",
    "    with zin.open('jaychou_lyrics.txt') as f:\n",
    "        corpus_chars=f.read().decode('utf-8')\n",
    "corpus_chars[:40]"
   ]
  },
  {
   "cell_type": "markdown",
   "id": "8402f62d",
   "metadata": {},
   "source": [
    "这个数据集有6万多个字符。为了打印⽅便，我们把换⾏符替换成空格，然后仅使⽤前1万个字符来训练\n",
    "模型"
   ]
  },
  {
   "cell_type": "code",
   "execution_count": 2,
   "id": "62141901",
   "metadata": {},
   "outputs": [],
   "source": [
    "corpus_chars=corpus_chars.replace('\\n',' ').replace('\\r',' ')\n",
    "corpus_chars=corpus_chars[0:10000]"
   ]
  },
  {
   "cell_type": "markdown",
   "id": "69982862",
   "metadata": {},
   "source": [
    "# 建立字符索引"
   ]
  },
  {
   "cell_type": "markdown",
   "id": "51a9bdeb",
   "metadata": {},
   "source": [
    "我们将每个字符映射成⼀个从0开始的连续整数，⼜称索引，来⽅便之后的数据处理。为了得到索引，我们将数据集⾥所有不同字符取出来，然后将其逐⼀映射到索引来构造词典。接着，打印 vocab_size ，即词典中不同字符的个数，⼜称词典⼤⼩"
   ]
  },
  {
   "cell_type": "code",
   "execution_count": 3,
   "id": "6385a830",
   "metadata": {},
   "outputs": [
    {
     "data": {
      "text/plain": [
       "1027"
      ]
     },
     "execution_count": 3,
     "metadata": {},
     "output_type": "execute_result"
    }
   ],
   "source": [
    "idx_to_char=list(set(corpus_chars))\n",
    "char_to_idx=dict([(char,i) for i,char in enumerate(idx_to_char)])\n",
    "vocab_size=len(char_to_idx)\n",
    "vocab_size"
   ]
  },
  {
   "cell_type": "code",
   "execution_count": 4,
   "id": "fe71a2a9",
   "metadata": {},
   "outputs": [
    {
     "name": "stdout",
     "output_type": "stream",
     "text": [
      "chars: 想要有直升机 想要和你飞到宇宙去 想要和\n",
      "indices: [566, 450, 927, 301, 141, 115, 717, 566, 450, 237, 27, 286, 18, 718, 640, 405, 717, 566, 450, 237]\n"
     ]
    }
   ],
   "source": [
    "corpus_indices=[char_to_idx[char] for char in corpus_chars]\n",
    "sample=corpus_indices[:20]\n",
    "print('chars:',''.join([idx_to_char[idx] for idx in sample]))\n",
    "print('indices:',sample)"
   ]
  },
  {
   "cell_type": "markdown",
   "id": "0a367b63",
   "metadata": {},
   "source": [
    "# 时序数据的采样"
   ]
  },
  {
   "cell_type": "markdown",
   "id": "fb313d09",
   "metadata": {},
   "source": [
    "在训练中我们需要每次随机读取⼩批量样本和标签。与之前章节的实验数据不同的是，时序数据的⼀个样本通常包含连续的字符。假设时间步数为5，样本序列为5个字符，即“想”“要”“有”“直”“升”。该样本的标签序列为这些字符分别在训练集中的下⼀个字符，即“要”“有”“直”“升”“机”。"
   ]
  },
  {
   "cell_type": "markdown",
   "id": "a00e8a35",
   "metadata": {},
   "source": [
    "## 随机采样"
   ]
  },
  {
   "cell_type": "code",
   "execution_count": 5,
   "id": "ddd2bc06",
   "metadata": {},
   "outputs": [],
   "source": [
    "def data_iter_random(corpus_indices,batch_size,num_steps,device=None):\n",
    "    # 减1是因为输出的索引x是相应输⼊的索引y加1\n",
    "    num_examples=(len(corpus_indices)-1)//num_steps\n",
    "    epoch_size=num_examples//batch_size\n",
    "    example_indices=list(range(num_examples))\n",
    "    random.shuffle(example_indices)\n",
    "    \n",
    "    def _data(pos):\n",
    "        return corpus_indices[pos:pos+num_steps]\n",
    "    if device is None:\n",
    "        device=torch.device('cuda' if torch.cuda.is_available() else 'cpu')\n",
    "    for i in range(epoch_size):\n",
    "        i=i*batch_size\n",
    "        batch_indices=example_indices[i:i+batch_size]\n",
    "        X=[_data(j*num_steps) for j in batch_indices]\n",
    "        Y=[_data(j*num_steps+1) for j in batch_indices]\n",
    "        yield torch.tensor(X,dtype=torch.float32,device=device),torch.tensor(Y,dtype=torch.float32,device=device)\n"
   ]
  },
  {
   "cell_type": "code",
   "execution_count": 6,
   "id": "bf25e8bf",
   "metadata": {
    "scrolled": true
   },
   "outputs": [
    {
     "name": "stdout",
     "output_type": "stream",
     "text": [
      "X: tensor([[ 6.,  7.,  8.,  9., 10., 11.],\n",
      "        [12., 13., 14., 15., 16., 17.]], device='cuda:0') \n",
      "Y: tensor([[ 7.,  8.,  9., 10., 11., 12.],\n",
      "        [13., 14., 15., 16., 17., 18.]], device='cuda:0') \n",
      "\n",
      "X: tensor([[18., 19., 20., 21., 22., 23.],\n",
      "        [ 0.,  1.,  2.,  3.,  4.,  5.]], device='cuda:0') \n",
      "Y: tensor([[19., 20., 21., 22., 23., 24.],\n",
      "        [ 1.,  2.,  3.,  4.,  5.,  6.]], device='cuda:0') \n",
      "\n"
     ]
    }
   ],
   "source": [
    "my_seq=list(range(30))\n",
    "for X,Y in data_iter_random(my_seq,batch_size=2,num_steps=6):\n",
    "    print('X:',X,'\\nY:',Y,'\\n')"
   ]
  },
  {
   "cell_type": "markdown",
   "id": "1d2d823c",
   "metadata": {},
   "source": [
    "## 相邻采样"
   ]
  },
  {
   "cell_type": "code",
   "execution_count": 7,
   "id": "b0487b66",
   "metadata": {},
   "outputs": [],
   "source": [
    "def data_iter_consecutive(corpus_indices,batch_size,num_steps,device=None):\n",
    "    if device is None:\n",
    "        device=torch.device('cuda' if torch.cuda.is_available() else 'cpu')\n",
    "    corpus_indices=torch.tensor(corpus_indices,dtype=torch.float32,device=device)\n",
    "    data_len=len(corpus_indices)\n",
    "    batch_len=data_len//batch_size\n",
    "    indices=corpus_indices[0:batch_size*batch_len].view(batch_size,batch_len)\n",
    "    epoch_size=(batch_len-1)//num_steps\n",
    "    for i in range(epoch_size):\n",
    "        i=i*num_steps\n",
    "        X=indices[:,i:i+num_steps]\n",
    "        Y=indices[:,i+1:i+num_steps+1]\n",
    "        yield X,Y"
   ]
  },
  {
   "cell_type": "code",
   "execution_count": 9,
   "id": "6213c833",
   "metadata": {},
   "outputs": [
    {
     "name": "stdout",
     "output_type": "stream",
     "text": [
      "X: tensor([[ 0.,  1.,  2.,  3.,  4.,  5.],\n",
      "        [10., 11., 12., 13., 14., 15.],\n",
      "        [20., 21., 22., 23., 24., 25.]], device='cuda:0') \n",
      "Y: tensor([[ 1.,  2.,  3.,  4.,  5.,  6.],\n",
      "        [11., 12., 13., 14., 15., 16.],\n",
      "        [21., 22., 23., 24., 25., 26.]], device='cuda:0')\n"
     ]
    }
   ],
   "source": [
    "for X,Y in data_iter_consecutive(my_seq,batch_size=2,num_steps=6):\n",
    "    print('X:',X,'\\nY:',Y)"
   ]
  }
 ],
 "metadata": {
  "kernelspec": {
   "display_name": "Python 3",
   "language": "python",
   "name": "python3"
  },
  "language_info": {
   "codemirror_mode": {
    "name": "ipython",
    "version": 3
   },
   "file_extension": ".py",
   "mimetype": "text/x-python",
   "name": "python",
   "nbconvert_exporter": "python",
   "pygments_lexer": "ipython3",
   "version": "3.8.7"
  }
 },
 "nbformat": 4,
 "nbformat_minor": 5
}
