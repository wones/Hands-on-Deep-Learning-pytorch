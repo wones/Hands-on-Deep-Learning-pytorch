{
 "cells": [
  {
   "cell_type": "markdown",
   "id": "after-shirt",
   "metadata": {},
   "source": [
    "# 生成数据集"
   ]
  },
  {
   "cell_type": "code",
   "execution_count": 1,
   "id": "thorough-fifteen",
   "metadata": {},
   "outputs": [],
   "source": [
    "import torch\n",
    "import numpy as np"
   ]
  },
  {
   "cell_type": "code",
   "execution_count": 40,
   "id": "continental-revolution",
   "metadata": {},
   "outputs": [],
   "source": [
    "num_inputs=2\n",
    "num_examples=1000\n",
    "true_w=[2,-3.4]\n",
    "true_b=4.2\n",
    "features=torch.tensor(np.random.normal(0,1,(num_examples,num_inputs)),dtype=torch.float)\n",
    "labels=true_w[0]*features[:,0]+true_w[1]*features[:,1]+true_b\n",
    "labels+=torch.tensor(np.random.normal(0,0.01,size=labels.size()),dtype=torch.float)"
   ]
  },
  {
   "cell_type": "markdown",
   "id": "informed-hundred",
   "metadata": {},
   "source": [
    "# 读取数据"
   ]
  },
  {
   "cell_type": "code",
   "execution_count": 41,
   "id": "infinite-capability",
   "metadata": {},
   "outputs": [],
   "source": [
    "import torch.utils.data as Data\n",
    "\n",
    "batch_size=10\n",
    "#将训练数据的特征与标签组合\n",
    "dataset=Data.TensorDataset(features,labels)\n",
    "#随机读取小批量\n",
    "data_iter=Data.DataLoader(dataset,batch_size,shuffle=True)"
   ]
  },
  {
   "cell_type": "code",
   "execution_count": 6,
   "id": "found-mechanism",
   "metadata": {},
   "outputs": [
    {
     "name": "stdout",
     "output_type": "stream",
     "text": [
      "tensor([[ 0.9597, -0.8151],\n",
      "        [-0.7712, -1.7511],\n",
      "        [-1.4989,  0.2438],\n",
      "        [ 0.7129, -1.3008],\n",
      "        [ 2.0205, -0.7493],\n",
      "        [-1.4020,  0.8971],\n",
      "        [ 0.4768,  2.4293],\n",
      "        [-1.4038,  1.6459],\n",
      "        [ 1.0127,  1.2485],\n",
      "        [-0.5808,  1.0980]]) tensor([ 8.8744,  8.6144,  0.3904, 10.0347, 10.7967, -1.6730, -3.1013, -4.2095,\n",
      "         1.9659, -0.6816])\n"
     ]
    }
   ],
   "source": [
    "for X,y in data_iter:\n",
    "    print(X,y)\n",
    "    break"
   ]
  },
  {
   "cell_type": "markdown",
   "id": "personalized-fortune",
   "metadata": {},
   "source": [
    "# 定义模型"
   ]
  },
  {
   "cell_type": "code",
   "execution_count": 30,
   "id": "swiss-psychology",
   "metadata": {},
   "outputs": [
    {
     "name": "stdout",
     "output_type": "stream",
     "text": [
      "LinearNet(\n",
      "  (linear): Linear(in_features=2, out_features=1, bias=True)\n",
      ")\n"
     ]
    }
   ],
   "source": [
    "import torch.nn as nn\n",
    "class LinearNet(nn.Module):\n",
    "    def __init__(self,n_feature):\n",
    "        super(LinearNet,self).__init__()\n",
    "        self.linear=nn.Linear(n_feature,1)\n",
    "    def forward(self,x):\n",
    "        y=self.linear(x)\n",
    "        return y\n",
    "net=LinearNet(num_inputs)\n",
    "print(net)"
   ]
  },
  {
   "cell_type": "code",
   "execution_count": 14,
   "id": "respective-possession",
   "metadata": {},
   "outputs": [
    {
     "name": "stdout",
     "output_type": "stream",
     "text": [
      "Parameter containing:\n",
      "tensor([[-0.5591, -0.4127]], requires_grad=True)\n",
      "Parameter containing:\n",
      "tensor([0.4805], requires_grad=True)\n"
     ]
    }
   ],
   "source": [
    "for param in net.parameters():\n",
    "    print(param)"
   ]
  },
  {
   "cell_type": "code",
   "execution_count": 42,
   "id": "confidential-culture",
   "metadata": {},
   "outputs": [
    {
     "name": "stdout",
     "output_type": "stream",
     "text": [
      "Sequential(\n",
      "  (linear): Linear(in_features=2, out_features=1, bias=True)\n",
      ")\n",
      "Linear(in_features=2, out_features=1, bias=True)\n"
     ]
    }
   ],
   "source": [
    "#写法一\n",
    "net=nn.Sequential(\n",
    "    nn.Linear(num_inputs,1)\n",
    "    )\n",
    "#写法二\n",
    "net=nn.Sequential()\n",
    "net.add_module('linear',nn.Linear(num_inputs,1))\n",
    "#写法三\n",
    "from collections import OrderedDict\n",
    "net=nn.Sequential(OrderedDict([\n",
    "    ('linear',nn.Linear(num_inputs,1))\n",
    "    ]))\n",
    "print(net)\n",
    "print(net[0])"
   ]
  },
  {
   "cell_type": "markdown",
   "id": "parliamentary-sally",
   "metadata": {},
   "source": [
    "# 初始化模型参数"
   ]
  },
  {
   "cell_type": "code",
   "execution_count": 43,
   "id": "republican-shopping",
   "metadata": {},
   "outputs": [
    {
     "data": {
      "text/plain": [
       "Parameter containing:\n",
       "tensor([0.], requires_grad=True)"
      ]
     },
     "execution_count": 43,
     "metadata": {},
     "output_type": "execute_result"
    }
   ],
   "source": [
    "from torch.nn import init\n",
    "init.normal_(net[0].weight,mean=0,std=0.01)\n",
    "init.constant_(net[0].bias,val=0)"
   ]
  },
  {
   "cell_type": "markdown",
   "id": "portuguese-elimination",
   "metadata": {},
   "source": [
    "# 定义损失函数"
   ]
  },
  {
   "cell_type": "code",
   "execution_count": 44,
   "id": "subtle-payday",
   "metadata": {},
   "outputs": [],
   "source": [
    "loss=nn.MSELoss()"
   ]
  },
  {
   "cell_type": "markdown",
   "id": "instant-hopkins",
   "metadata": {},
   "source": [
    "# 定义优化算法"
   ]
  },
  {
   "cell_type": "code",
   "execution_count": 45,
   "id": "sorted-landscape",
   "metadata": {},
   "outputs": [
    {
     "name": "stdout",
     "output_type": "stream",
     "text": [
      "SGD (\n",
      "Parameter Group 0\n",
      "    dampening: 0\n",
      "    lr: 0.03\n",
      "    momentum: 0\n",
      "    nesterov: False\n",
      "    weight_decay: 0\n",
      ")\n"
     ]
    }
   ],
   "source": [
    "import torch.optim as optim\n",
    "\n",
    "optimizer=optim.SGD(net.parameters(),lr=0.03)\n",
    "print(optimizer)"
   ]
  },
  {
   "cell_type": "code",
   "execution_count": 36,
   "id": "guilty-creation",
   "metadata": {},
   "outputs": [
    {
     "ename": "AttributeError",
     "evalue": "'Sequential' object has no attribute 'subnet1'",
     "output_type": "error",
     "traceback": [
      "\u001b[1;31m---------------------------------------------------------------------------\u001b[0m",
      "\u001b[1;31mAttributeError\u001b[0m                            Traceback (most recent call last)",
      "\u001b[1;32m<ipython-input-36-50a6240590dd>\u001b[0m in \u001b[0;36m<module>\u001b[1;34m\u001b[0m\n\u001b[0;32m      1\u001b[0m optimizer=optim.SGD([\n\u001b[1;32m----> 2\u001b[1;33m     \u001b[1;33m{\u001b[0m\u001b[1;34m'params'\u001b[0m\u001b[1;33m:\u001b[0m\u001b[0mnet\u001b[0m\u001b[1;33m.\u001b[0m\u001b[0msubnet1\u001b[0m\u001b[1;33m.\u001b[0m\u001b[0mparameters\u001b[0m\u001b[1;33m(\u001b[0m\u001b[1;33m)\u001b[0m\u001b[1;33m}\u001b[0m\u001b[1;33m,\u001b[0m\u001b[1;33m\u001b[0m\u001b[1;33m\u001b[0m\u001b[0m\n\u001b[0m\u001b[0;32m      3\u001b[0m     \u001b[1;33m{\u001b[0m\u001b[1;34m'params'\u001b[0m\u001b[1;33m:\u001b[0m\u001b[0mnet\u001b[0m\u001b[1;33m.\u001b[0m\u001b[0msubnet2\u001b[0m\u001b[1;33m.\u001b[0m\u001b[0mparameters\u001b[0m\u001b[1;33m(\u001b[0m\u001b[1;33m)\u001b[0m\u001b[1;33m,\u001b[0m\u001b[1;34m'lr'\u001b[0m\u001b[1;33m:\u001b[0m\u001b[1;36m0.01\u001b[0m\u001b[1;33m}\u001b[0m\u001b[1;33m\u001b[0m\u001b[1;33m\u001b[0m\u001b[0m\n\u001b[0;32m      4\u001b[0m ],lr=0.03)\n",
      "\u001b[1;32me:\\python3.8.7(64)\\lib\\site-packages\\torch\\nn\\modules\\module.py\u001b[0m in \u001b[0;36m__getattr__\u001b[1;34m(self, name)\u001b[0m\n\u001b[0;32m    945\u001b[0m             \u001b[1;32mif\u001b[0m \u001b[0mname\u001b[0m \u001b[1;32min\u001b[0m \u001b[0mmodules\u001b[0m\u001b[1;33m:\u001b[0m\u001b[1;33m\u001b[0m\u001b[1;33m\u001b[0m\u001b[0m\n\u001b[0;32m    946\u001b[0m                 \u001b[1;32mreturn\u001b[0m \u001b[0mmodules\u001b[0m\u001b[1;33m[\u001b[0m\u001b[0mname\u001b[0m\u001b[1;33m]\u001b[0m\u001b[1;33m\u001b[0m\u001b[1;33m\u001b[0m\u001b[0m\n\u001b[1;32m--> 947\u001b[1;33m         raise AttributeError(\"'{}' object has no attribute '{}'\".format(\n\u001b[0m\u001b[0;32m    948\u001b[0m             type(self).__name__, name))\n\u001b[0;32m    949\u001b[0m \u001b[1;33m\u001b[0m\u001b[0m\n",
      "\u001b[1;31mAttributeError\u001b[0m: 'Sequential' object has no attribute 'subnet1'"
     ]
    }
   ],
   "source": [
    "optimizer=optim.SGD([\n",
    "    {'params':net.subnet1.parameters()},\n",
    "    {'params':net.subnet2.parameters(),'lr':0.01}\n",
    "],lr=0.03)"
   ]
  },
  {
   "cell_type": "code",
   "execution_count": 24,
   "id": "victorian-january",
   "metadata": {},
   "outputs": [],
   "source": [
    "for param_group in optimizer.param_groups:\n",
    "    param_group['lr']*=0.1"
   ]
  },
  {
   "cell_type": "code",
   "execution_count": 25,
   "id": "handmade-wrestling",
   "metadata": {},
   "outputs": [
    {
     "name": "stdout",
     "output_type": "stream",
     "text": [
      "SGD (\n",
      "Parameter Group 0\n",
      "    dampening: 0\n",
      "    lr: 0.003\n",
      "    momentum: 0\n",
      "    nesterov: False\n",
      "    weight_decay: 0\n",
      ")\n"
     ]
    }
   ],
   "source": [
    "print(optimizer)"
   ]
  },
  {
   "cell_type": "markdown",
   "id": "pediatric-singer",
   "metadata": {},
   "source": [
    "# 训练模型"
   ]
  },
  {
   "cell_type": "code",
   "execution_count": 46,
   "id": "prime-portrait",
   "metadata": {},
   "outputs": [
    {
     "name": "stdout",
     "output_type": "stream",
     "text": [
      "epoch 1,loss:0.000382\n",
      "epoch 2,loss:0.000088\n",
      "epoch 3,loss:0.000167\n"
     ]
    }
   ],
   "source": [
    "num_epochs=3\n",
    "for epoch in range(1,num_epochs+1):\n",
    "    for X,y in data_iter:\n",
    "        output=net(X)\n",
    "        l=loss(output,y.view(-1,1))\n",
    "        optimizer.zero_grad()\n",
    "        l.backward()\n",
    "        optimizer.step()\n",
    "    print('epoch %d,loss:%f'%(epoch,l.item()))"
   ]
  },
  {
   "cell_type": "code",
   "execution_count": 47,
   "id": "ordinary-notification",
   "metadata": {},
   "outputs": [
    {
     "name": "stdout",
     "output_type": "stream",
     "text": [
      "[2, -3.4] Parameter containing:\n",
      "tensor([[ 2.0004, -3.3993]], requires_grad=True)\n",
      "4.2 Parameter containing:\n",
      "tensor([4.2001], requires_grad=True)\n"
     ]
    }
   ],
   "source": [
    "dense=net[0]\n",
    "print(true_w,dense.weight)\n",
    "print(true_b,dense.bias)"
   ]
  }
 ],
 "metadata": {
  "kernelspec": {
   "display_name": "Python 3",
   "language": "python",
   "name": "python3"
  },
  "language_info": {
   "codemirror_mode": {
    "name": "ipython",
    "version": 3
   },
   "file_extension": ".py",
   "mimetype": "text/x-python",
   "name": "python",
   "nbconvert_exporter": "python",
   "pygments_lexer": "ipython3",
   "version": "3.8.7"
  }
 },
 "nbformat": 4,
 "nbformat_minor": 5
}
